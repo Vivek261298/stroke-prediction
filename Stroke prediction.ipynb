{
 "cells": [
  {
   "cell_type": "markdown",
   "id": "2da3a58a",
   "metadata": {},
   "source": [
    "# About dataset\n",
    "According to the World Health Organization (WHO) stroke is the 2nd leading cause of death globally, responsible for approximately 11% of total deaths.\n",
    "This dataset is used to predict whether a patient is likely to get stroke based on the input parameters like gender, age, various diseases, and smoking status. Each row in the data provides relavant information about the patient.\n",
    "\n",
    "1) id: unique identifier\n",
    "\n",
    "2) gender: \"Male\", \"Female\" or \"Other\"\n",
    "\n",
    "3) age: age of the patient\n",
    "\n",
    "4) hypertension: 0 if the patient doesn't have hypertension, 1 if the patient has hypertension\n",
    "\n",
    "5) heart_disease: 0 if the patient doesn't have any heart diseases, 1 if the patient has a heart disease\n",
    "\n",
    "6) ever_married: \"No\" or \"Yes\"\n",
    "\n",
    "7) work_type: \"children\", \"Govt_jov\", \"Never_worked\", \"Private\" or \"Self-employed\"\n",
    "\n",
    "8) Residence_type: \"Rural\" or \"Urban\"\n",
    "\n",
    "9) avg_glucose_level: average glucose level in blood\n",
    "\n",
    "10) bmi: body mass index\n",
    "\n",
    "11) smoking_status: \"formerly smoked\", \"never smoked\", \"smokes\" or \"Unknown\"*\n",
    "\n",
    "12) stroke: 1 if the patient had a stroke or 0 if not"
   ]
  },
  {
   "cell_type": "markdown",
   "id": "42848539",
   "metadata": {},
   "source": [
    "### Importing the libraries"
   ]
  },
  {
   "cell_type": "code",
   "execution_count": 1,
   "id": "b4fa037b",
   "metadata": {},
   "outputs": [],
   "source": [
    "import numpy as np\n",
    "import pandas as pd\n",
    "import matplotlib.pyplot as plt\n",
    "import seaborn as sns\n",
    "import warnings \n",
    "warnings.filterwarnings('ignore')"
   ]
  },
  {
   "cell_type": "markdown",
   "id": "d814017b",
   "metadata": {},
   "source": [
    "### Loading the dataset"
   ]
  },
  {
   "cell_type": "code",
   "execution_count": 2,
   "id": "afae1ddb",
   "metadata": {},
   "outputs": [],
   "source": [
    "data=pd.read_csv(r\"C:\\Users\\vivek\\Desktop\\GGN AUG2022\\my_projects_dse\\stroke prediction\\healthcare-dataset-stroke-data.csv\")"
   ]
  },
  {
   "cell_type": "code",
   "execution_count": 3,
   "id": "dec6c15a",
   "metadata": {},
   "outputs": [
    {
     "data": {
      "text/html": [
       "<div>\n",
       "<style scoped>\n",
       "    .dataframe tbody tr th:only-of-type {\n",
       "        vertical-align: middle;\n",
       "    }\n",
       "\n",
       "    .dataframe tbody tr th {\n",
       "        vertical-align: top;\n",
       "    }\n",
       "\n",
       "    .dataframe thead th {\n",
       "        text-align: right;\n",
       "    }\n",
       "</style>\n",
       "<table border=\"1\" class=\"dataframe\">\n",
       "  <thead>\n",
       "    <tr style=\"text-align: right;\">\n",
       "      <th></th>\n",
       "      <th>id</th>\n",
       "      <th>gender</th>\n",
       "      <th>age</th>\n",
       "      <th>hypertension</th>\n",
       "      <th>heart_disease</th>\n",
       "      <th>ever_married</th>\n",
       "      <th>work_type</th>\n",
       "      <th>Residence_type</th>\n",
       "      <th>avg_glucose_level</th>\n",
       "      <th>bmi</th>\n",
       "      <th>smoking_status</th>\n",
       "      <th>stroke</th>\n",
       "    </tr>\n",
       "  </thead>\n",
       "  <tbody>\n",
       "    <tr>\n",
       "      <th>0</th>\n",
       "      <td>9046</td>\n",
       "      <td>Male</td>\n",
       "      <td>67.0</td>\n",
       "      <td>0</td>\n",
       "      <td>1</td>\n",
       "      <td>Yes</td>\n",
       "      <td>Private</td>\n",
       "      <td>Urban</td>\n",
       "      <td>228.69</td>\n",
       "      <td>36.6</td>\n",
       "      <td>formerly smoked</td>\n",
       "      <td>1</td>\n",
       "    </tr>\n",
       "    <tr>\n",
       "      <th>1</th>\n",
       "      <td>51676</td>\n",
       "      <td>Female</td>\n",
       "      <td>61.0</td>\n",
       "      <td>0</td>\n",
       "      <td>0</td>\n",
       "      <td>Yes</td>\n",
       "      <td>Self-employed</td>\n",
       "      <td>Rural</td>\n",
       "      <td>202.21</td>\n",
       "      <td>NaN</td>\n",
       "      <td>never smoked</td>\n",
       "      <td>1</td>\n",
       "    </tr>\n",
       "    <tr>\n",
       "      <th>2</th>\n",
       "      <td>31112</td>\n",
       "      <td>Male</td>\n",
       "      <td>80.0</td>\n",
       "      <td>0</td>\n",
       "      <td>1</td>\n",
       "      <td>Yes</td>\n",
       "      <td>Private</td>\n",
       "      <td>Rural</td>\n",
       "      <td>105.92</td>\n",
       "      <td>32.5</td>\n",
       "      <td>never smoked</td>\n",
       "      <td>1</td>\n",
       "    </tr>\n",
       "    <tr>\n",
       "      <th>3</th>\n",
       "      <td>60182</td>\n",
       "      <td>Female</td>\n",
       "      <td>49.0</td>\n",
       "      <td>0</td>\n",
       "      <td>0</td>\n",
       "      <td>Yes</td>\n",
       "      <td>Private</td>\n",
       "      <td>Urban</td>\n",
       "      <td>171.23</td>\n",
       "      <td>34.4</td>\n",
       "      <td>smokes</td>\n",
       "      <td>1</td>\n",
       "    </tr>\n",
       "    <tr>\n",
       "      <th>4</th>\n",
       "      <td>1665</td>\n",
       "      <td>Female</td>\n",
       "      <td>79.0</td>\n",
       "      <td>1</td>\n",
       "      <td>0</td>\n",
       "      <td>Yes</td>\n",
       "      <td>Self-employed</td>\n",
       "      <td>Rural</td>\n",
       "      <td>174.12</td>\n",
       "      <td>24.0</td>\n",
       "      <td>never smoked</td>\n",
       "      <td>1</td>\n",
       "    </tr>\n",
       "  </tbody>\n",
       "</table>\n",
       "</div>"
      ],
      "text/plain": [
       "      id  gender   age  hypertension  heart_disease ever_married  \\\n",
       "0   9046    Male  67.0             0              1          Yes   \n",
       "1  51676  Female  61.0             0              0          Yes   \n",
       "2  31112    Male  80.0             0              1          Yes   \n",
       "3  60182  Female  49.0             0              0          Yes   \n",
       "4   1665  Female  79.0             1              0          Yes   \n",
       "\n",
       "       work_type Residence_type  avg_glucose_level   bmi   smoking_status  \\\n",
       "0        Private          Urban             228.69  36.6  formerly smoked   \n",
       "1  Self-employed          Rural             202.21   NaN     never smoked   \n",
       "2        Private          Rural             105.92  32.5     never smoked   \n",
       "3        Private          Urban             171.23  34.4           smokes   \n",
       "4  Self-employed          Rural             174.12  24.0     never smoked   \n",
       "\n",
       "   stroke  \n",
       "0       1  \n",
       "1       1  \n",
       "2       1  \n",
       "3       1  \n",
       "4       1  "
      ]
     },
     "execution_count": 3,
     "metadata": {},
     "output_type": "execute_result"
    }
   ],
   "source": [
    "data.head()"
   ]
  },
  {
   "cell_type": "markdown",
   "id": "50b06bda",
   "metadata": {},
   "source": [
    "## Pathway\n",
    "* data discription\n",
    "* changing data types of features\n",
    "* Exploratory Data Analysis\n",
    "* Modelling"
   ]
  },
  {
   "cell_type": "markdown",
   "id": "f79aac09",
   "metadata": {},
   "source": [
    "#### Data discription"
   ]
  },
  {
   "cell_type": "code",
   "execution_count": 4,
   "id": "ce76e80b",
   "metadata": {},
   "outputs": [
    {
     "name": "stdout",
     "output_type": "stream",
     "text": [
      "<class 'pandas.core.frame.DataFrame'>\n",
      "RangeIndex: 5110 entries, 0 to 5109\n",
      "Data columns (total 12 columns):\n",
      " #   Column             Non-Null Count  Dtype  \n",
      "---  ------             --------------  -----  \n",
      " 0   id                 5110 non-null   int64  \n",
      " 1   gender             5110 non-null   object \n",
      " 2   age                5110 non-null   float64\n",
      " 3   hypertension       5110 non-null   int64  \n",
      " 4   heart_disease      5110 non-null   int64  \n",
      " 5   ever_married       5110 non-null   object \n",
      " 6   work_type          5110 non-null   object \n",
      " 7   Residence_type     5110 non-null   object \n",
      " 8   avg_glucose_level  5110 non-null   float64\n",
      " 9   bmi                4909 non-null   float64\n",
      " 10  smoking_status     5110 non-null   object \n",
      " 11  stroke             5110 non-null   int64  \n",
      "dtypes: float64(3), int64(4), object(5)\n",
      "memory usage: 479.2+ KB\n"
     ]
    }
   ],
   "source": [
    "data.info()"
   ]
  },
  {
   "cell_type": "code",
   "execution_count": 5,
   "id": "8ab3ff59",
   "metadata": {},
   "outputs": [
    {
     "data": {
      "text/plain": [
       "(5110, 12)"
      ]
     },
     "execution_count": 5,
     "metadata": {},
     "output_type": "execute_result"
    }
   ],
   "source": [
    "data.shape"
   ]
  },
  {
   "cell_type": "code",
   "execution_count": 6,
   "id": "0e17c12d",
   "metadata": {},
   "outputs": [
    {
     "data": {
      "text/html": [
       "<div>\n",
       "<style scoped>\n",
       "    .dataframe tbody tr th:only-of-type {\n",
       "        vertical-align: middle;\n",
       "    }\n",
       "\n",
       "    .dataframe tbody tr th {\n",
       "        vertical-align: top;\n",
       "    }\n",
       "\n",
       "    .dataframe thead th {\n",
       "        text-align: right;\n",
       "    }\n",
       "</style>\n",
       "<table border=\"1\" class=\"dataframe\">\n",
       "  <thead>\n",
       "    <tr style=\"text-align: right;\">\n",
       "      <th></th>\n",
       "      <th>count</th>\n",
       "      <th>mean</th>\n",
       "      <th>std</th>\n",
       "      <th>min</th>\n",
       "      <th>25%</th>\n",
       "      <th>50%</th>\n",
       "      <th>75%</th>\n",
       "      <th>max</th>\n",
       "    </tr>\n",
       "  </thead>\n",
       "  <tbody>\n",
       "    <tr>\n",
       "      <th>id</th>\n",
       "      <td>5110.0</td>\n",
       "      <td>36517.829354</td>\n",
       "      <td>21161.721625</td>\n",
       "      <td>67.00</td>\n",
       "      <td>17741.250</td>\n",
       "      <td>36932.000</td>\n",
       "      <td>54682.00</td>\n",
       "      <td>72940.00</td>\n",
       "    </tr>\n",
       "    <tr>\n",
       "      <th>age</th>\n",
       "      <td>5110.0</td>\n",
       "      <td>43.226614</td>\n",
       "      <td>22.612647</td>\n",
       "      <td>0.08</td>\n",
       "      <td>25.000</td>\n",
       "      <td>45.000</td>\n",
       "      <td>61.00</td>\n",
       "      <td>82.00</td>\n",
       "    </tr>\n",
       "    <tr>\n",
       "      <th>hypertension</th>\n",
       "      <td>5110.0</td>\n",
       "      <td>0.097456</td>\n",
       "      <td>0.296607</td>\n",
       "      <td>0.00</td>\n",
       "      <td>0.000</td>\n",
       "      <td>0.000</td>\n",
       "      <td>0.00</td>\n",
       "      <td>1.00</td>\n",
       "    </tr>\n",
       "    <tr>\n",
       "      <th>heart_disease</th>\n",
       "      <td>5110.0</td>\n",
       "      <td>0.054012</td>\n",
       "      <td>0.226063</td>\n",
       "      <td>0.00</td>\n",
       "      <td>0.000</td>\n",
       "      <td>0.000</td>\n",
       "      <td>0.00</td>\n",
       "      <td>1.00</td>\n",
       "    </tr>\n",
       "    <tr>\n",
       "      <th>avg_glucose_level</th>\n",
       "      <td>5110.0</td>\n",
       "      <td>106.147677</td>\n",
       "      <td>45.283560</td>\n",
       "      <td>55.12</td>\n",
       "      <td>77.245</td>\n",
       "      <td>91.885</td>\n",
       "      <td>114.09</td>\n",
       "      <td>271.74</td>\n",
       "    </tr>\n",
       "    <tr>\n",
       "      <th>bmi</th>\n",
       "      <td>4909.0</td>\n",
       "      <td>28.893237</td>\n",
       "      <td>7.854067</td>\n",
       "      <td>10.30</td>\n",
       "      <td>23.500</td>\n",
       "      <td>28.100</td>\n",
       "      <td>33.10</td>\n",
       "      <td>97.60</td>\n",
       "    </tr>\n",
       "    <tr>\n",
       "      <th>stroke</th>\n",
       "      <td>5110.0</td>\n",
       "      <td>0.048728</td>\n",
       "      <td>0.215320</td>\n",
       "      <td>0.00</td>\n",
       "      <td>0.000</td>\n",
       "      <td>0.000</td>\n",
       "      <td>0.00</td>\n",
       "      <td>1.00</td>\n",
       "    </tr>\n",
       "  </tbody>\n",
       "</table>\n",
       "</div>"
      ],
      "text/plain": [
       "                    count          mean           std    min        25%  \\\n",
       "id                 5110.0  36517.829354  21161.721625  67.00  17741.250   \n",
       "age                5110.0     43.226614     22.612647   0.08     25.000   \n",
       "hypertension       5110.0      0.097456      0.296607   0.00      0.000   \n",
       "heart_disease      5110.0      0.054012      0.226063   0.00      0.000   \n",
       "avg_glucose_level  5110.0    106.147677     45.283560  55.12     77.245   \n",
       "bmi                4909.0     28.893237      7.854067  10.30     23.500   \n",
       "stroke             5110.0      0.048728      0.215320   0.00      0.000   \n",
       "\n",
       "                         50%       75%       max  \n",
       "id                 36932.000  54682.00  72940.00  \n",
       "age                   45.000     61.00     82.00  \n",
       "hypertension           0.000      0.00      1.00  \n",
       "heart_disease          0.000      0.00      1.00  \n",
       "avg_glucose_level     91.885    114.09    271.74  \n",
       "bmi                   28.100     33.10     97.60  \n",
       "stroke                 0.000      0.00      1.00  "
      ]
     },
     "execution_count": 6,
     "metadata": {},
     "output_type": "execute_result"
    }
   ],
   "source": [
    "data.describe().T"
   ]
  },
  {
   "cell_type": "code",
   "execution_count": 7,
   "id": "76f57236",
   "metadata": {},
   "outputs": [
    {
     "data": {
      "text/plain": [
       "0    95.127202\n",
       "1     4.872798\n",
       "Name: stroke, dtype: float64"
      ]
     },
     "execution_count": 7,
     "metadata": {},
     "output_type": "execute_result"
    }
   ],
   "source": [
    "data.stroke.value_counts()/len(data)*100 #highly imbalance dataset"
   ]
  },
  {
   "cell_type": "markdown",
   "id": "cca3af73",
   "metadata": {},
   "source": [
    "#### changing the datatype of features"
   ]
  },
  {
   "cell_type": "code",
   "execution_count": 8,
   "id": "bd5409a0",
   "metadata": {},
   "outputs": [],
   "source": [
    "data['hypertension']=data['hypertension'].astype(object)\n",
    "data['heart_disease']=data['heart_disease'].astype(object)\n"
   ]
  },
  {
   "cell_type": "markdown",
   "id": "2259be0a",
   "metadata": {},
   "source": [
    "### Exploratory data analysis"
   ]
  },
  {
   "cell_type": "markdown",
   "id": "fe4b7a3e",
   "metadata": {},
   "source": [
    "#### Univariate analysis"
   ]
  },
  {
   "cell_type": "code",
   "execution_count": 9,
   "id": "790cf67e",
   "metadata": {},
   "outputs": [],
   "source": [
    "data.drop('id',axis=1,inplace=True)"
   ]
  },
  {
   "cell_type": "code",
   "execution_count": 10,
   "id": "b9535c3e",
   "metadata": {},
   "outputs": [],
   "source": [
    "num_col=data.select_dtypes(include=np.number).columns\n",
    "num_col=['age', 'avg_glucose_level', 'bmi']"
   ]
  },
  {
   "cell_type": "code",
   "execution_count": 11,
   "id": "dfbbd7dd",
   "metadata": {},
   "outputs": [
    {
     "data": {
      "image/png": "[encoded data removed]",
      "text/plain": [
       "<Figure size 1080x720 with 3 Axes>"
      ]
     },
     "metadata": {
      "needs_background": "light"
     },
     "output_type": "display_data"
    }
   ],
   "source": [
    "t=1\n",
    "plt.figure(figsize=[15,10])\n",
    "for i in num_col:\n",
    "    plt.subplot(2,2,t)\n",
    "    sns.distplot(data[i])\n",
    "    t=t+1\n",
    "plt.show()"
   ]
  },
  {
   "cell_type": "code",
   "execution_count": 12,
   "id": "28a556d0",
   "metadata": {},
   "outputs": [
    {
     "data": {
      "image/png": "[encoded data removed]",
      "text/plain": [
       "<Figure size 1080x720 with 3 Axes>"
      ]
     },
     "metadata": {
      "needs_background": "light"
     },
     "output_type": "display_data"
    }
   ],
   "source": [
    "t=1\n",
    "plt.figure(figsize=[15,10])\n",
    "for i in num_col:\n",
    "    plt.subplot(2,2,t)\n",
    "    sns.boxplot(data[i])\n",
    "    t=t+1\n",
    "plt.show()"
   ]
  },
  {
   "cell_type": "markdown",
   "id": "f81e3577",
   "metadata": {},
   "source": [
    "#### inference of numerical columns\n",
    "* majority of patients age lie between 24-62\n",
    "* huge outliers lie in avg glucose level which is possible case\n",
    "* majority of patients bmi between 24 to 33\n"
   ]
  },
  {
   "cell_type": "code",
   "execution_count": 13,
   "id": "580e6c9f",
   "metadata": {},
   "outputs": [
    {
     "data": {
      "text/plain": [
       "Index(['gender', 'hypertension', 'heart_disease', 'ever_married', 'work_type',\n",
       "       'Residence_type', 'smoking_status'],\n",
       "      dtype='object')"
      ]
     },
     "execution_count": 13,
     "metadata": {},
     "output_type": "execute_result"
    }
   ],
   "source": [
    "cat_col=data.select_dtypes(include=np.object).columns\n",
    "cat_col"
   ]
  },
  {
   "cell_type": "code",
   "execution_count": 14,
   "id": "070ac6e4",
   "metadata": {},
   "outputs": [
    {
     "data": {
      "image/png": "[encoded data removed]",
      "text/plain": [
       "<Figure size 1080x720 with 7 Axes>"
      ]
     },
     "metadata": {
      "needs_background": "light"
     },
     "output_type": "display_data"
    }
   ],
   "source": [
    "t=1\n",
    "plt.figure(figsize=[15,10])\n",
    "for i in cat_col:\n",
    "    plt.subplot(4,2,t)\n",
    "    sns.countplot(data[i])\n",
    "    t=t+1\n",
    "plt.tight_layout()\n",
    "plt.show()"
   ]
  },
  {
   "cell_type": "markdown",
   "id": "ebffaa21",
   "metadata": {},
   "source": [
    "#### inference of cat columns\n",
    "* female patients is higher\n",
    "* majority patients dont have hypertension\n",
    "* majority patients dont have heart disease \n",
    "* married person is higher\n",
    "* most of patients engage in private job\n",
    "* unkown category in smoking needs to be imputed"
   ]
  },
  {
   "cell_type": "code",
   "execution_count": 15,
   "id": "2cfd9b5c",
   "metadata": {},
   "outputs": [],
   "source": [
    "#####"
   ]
  },
  {
   "cell_type": "code",
   "execution_count": 16,
   "id": "9840f5e3",
   "metadata": {},
   "outputs": [],
   "source": [
    "### bivariate analysis"
   ]
  },
  {
   "cell_type": "code",
   "execution_count": 17,
   "id": "58322b32",
   "metadata": {},
   "outputs": [],
   "source": [
    "####"
   ]
  },
  {
   "cell_type": "markdown",
   "id": "b812f6b0",
   "metadata": {},
   "source": [
    "### Missing value treatment"
   ]
  },
  {
   "cell_type": "code",
   "execution_count": 18,
   "id": "ec9cbe23",
   "metadata": {},
   "outputs": [
    {
     "data": {
      "text/plain": [
       "gender               0.000000\n",
       "age                  0.000000\n",
       "hypertension         0.000000\n",
       "heart_disease        0.000000\n",
       "ever_married         0.000000\n",
       "work_type            0.000000\n",
       "Residence_type       0.000000\n",
       "avg_glucose_level    0.000000\n",
       "bmi                  3.933464\n",
       "smoking_status       0.000000\n",
       "stroke               0.000000\n",
       "dtype: float64"
      ]
     },
     "execution_count": 18,
     "metadata": {},
     "output_type": "execute_result"
    }
   ],
   "source": [
    "data.isnull().sum()/len(data)*100"
   ]
  },
  {
   "cell_type": "code",
   "execution_count": 19,
   "id": "8bae284a",
   "metadata": {},
   "outputs": [
    {
     "data": {
      "text/plain": [
       "28.1"
      ]
     },
     "execution_count": 19,
     "metadata": {},
     "output_type": "execute_result"
    }
   ],
   "source": [
    "data.bmi.median()"
   ]
  },
  {
   "cell_type": "code",
   "execution_count": 20,
   "id": "853d68fb",
   "metadata": {},
   "outputs": [
    {
     "data": {
      "text/plain": [
       "gender\n",
       "Female    27.8\n",
       "Male      28.4\n",
       "Other     22.4\n",
       "Name: bmi, dtype: float64"
      ]
     },
     "execution_count": 20,
     "metadata": {},
     "output_type": "execute_result"
    }
   ],
   "source": [
    "data.groupby('gender')['bmi'].median()"
   ]
  },
  {
   "cell_type": "code",
   "execution_count": 21,
   "id": "4637e338",
   "metadata": {},
   "outputs": [],
   "source": [
    "data.loc[(data.bmi.isnull())&(data['gender']=='Female'),'bmi']=27.8\n",
    "data.loc[(data.bmi.isnull())&(data['gender']=='Male'),'bmi']=28.4\n"
   ]
  },
  {
   "cell_type": "code",
   "execution_count": 22,
   "id": "279230a2",
   "metadata": {},
   "outputs": [],
   "source": [
    "data.loc[data.gender=='Other','gender']='Female'"
   ]
  },
  {
   "cell_type": "code",
   "execution_count": 23,
   "id": "7270f2c9",
   "metadata": {},
   "outputs": [],
   "source": [
    "data.loc[data.work_type=='Never_worked','work_type']='Private'"
   ]
  },
  {
   "cell_type": "code",
   "execution_count": 24,
   "id": "7d973ae3",
   "metadata": {},
   "outputs": [
    {
     "data": {
      "text/plain": [
       "Private          2947\n",
       "Self-employed     819\n",
       "children          687\n",
       "Govt_job          657\n",
       "Name: work_type, dtype: int64"
      ]
     },
     "execution_count": 24,
     "metadata": {},
     "output_type": "execute_result"
    }
   ],
   "source": [
    "data.work_type.value_counts()\n"
   ]
  },
  {
   "cell_type": "markdown",
   "id": "b37d9c5c",
   "metadata": {},
   "source": [
    "### Encoding"
   ]
  },
  {
   "cell_type": "code",
   "execution_count": 25,
   "id": "bb51799b",
   "metadata": {},
   "outputs": [
    {
     "data": {
      "text/html": [
       "<div>\n",
       "<style scoped>\n",
       "    .dataframe tbody tr th:only-of-type {\n",
       "        vertical-align: middle;\n",
       "    }\n",
       "\n",
       "    .dataframe tbody tr th {\n",
       "        vertical-align: top;\n",
       "    }\n",
       "\n",
       "    .dataframe thead th {\n",
       "        text-align: right;\n",
       "    }\n",
       "</style>\n",
       "<table border=\"1\" class=\"dataframe\">\n",
       "  <thead>\n",
       "    <tr style=\"text-align: right;\">\n",
       "      <th></th>\n",
       "      <th>age</th>\n",
       "      <th>avg_glucose_level</th>\n",
       "      <th>bmi</th>\n",
       "      <th>stroke</th>\n",
       "      <th>gender_Male</th>\n",
       "      <th>hypertension_1</th>\n",
       "      <th>heart_disease_1</th>\n",
       "      <th>ever_married_Yes</th>\n",
       "      <th>work_type_Private</th>\n",
       "      <th>work_type_Self-employed</th>\n",
       "      <th>work_type_children</th>\n",
       "      <th>Residence_type_Urban</th>\n",
       "      <th>smoking_status_formerly smoked</th>\n",
       "      <th>smoking_status_never smoked</th>\n",
       "      <th>smoking_status_smokes</th>\n",
       "    </tr>\n",
       "  </thead>\n",
       "  <tbody>\n",
       "    <tr>\n",
       "      <th>0</th>\n",
       "      <td>67.0</td>\n",
       "      <td>228.69</td>\n",
       "      <td>36.6</td>\n",
       "      <td>1</td>\n",
       "      <td>1</td>\n",
       "      <td>0</td>\n",
       "      <td>1</td>\n",
       "      <td>1</td>\n",
       "      <td>1</td>\n",
       "      <td>0</td>\n",
       "      <td>0</td>\n",
       "      <td>1</td>\n",
       "      <td>1</td>\n",
       "      <td>0</td>\n",
       "      <td>0</td>\n",
       "    </tr>\n",
       "    <tr>\n",
       "      <th>1</th>\n",
       "      <td>61.0</td>\n",
       "      <td>202.21</td>\n",
       "      <td>27.8</td>\n",
       "      <td>1</td>\n",
       "      <td>0</td>\n",
       "      <td>0</td>\n",
       "      <td>0</td>\n",
       "      <td>1</td>\n",
       "      <td>0</td>\n",
       "      <td>1</td>\n",
       "      <td>0</td>\n",
       "      <td>0</td>\n",
       "      <td>0</td>\n",
       "      <td>1</td>\n",
       "      <td>0</td>\n",
       "    </tr>\n",
       "    <tr>\n",
       "      <th>2</th>\n",
       "      <td>80.0</td>\n",
       "      <td>105.92</td>\n",
       "      <td>32.5</td>\n",
       "      <td>1</td>\n",
       "      <td>1</td>\n",
       "      <td>0</td>\n",
       "      <td>1</td>\n",
       "      <td>1</td>\n",
       "      <td>1</td>\n",
       "      <td>0</td>\n",
       "      <td>0</td>\n",
       "      <td>0</td>\n",
       "      <td>0</td>\n",
       "      <td>1</td>\n",
       "      <td>0</td>\n",
       "    </tr>\n",
       "    <tr>\n",
       "      <th>3</th>\n",
       "      <td>49.0</td>\n",
       "      <td>171.23</td>\n",
       "      <td>34.4</td>\n",
       "      <td>1</td>\n",
       "      <td>0</td>\n",
       "      <td>0</td>\n",
       "      <td>0</td>\n",
       "      <td>1</td>\n",
       "      <td>1</td>\n",
       "      <td>0</td>\n",
       "      <td>0</td>\n",
       "      <td>1</td>\n",
       "      <td>0</td>\n",
       "      <td>0</td>\n",
       "      <td>1</td>\n",
       "    </tr>\n",
       "    <tr>\n",
       "      <th>4</th>\n",
       "      <td>79.0</td>\n",
       "      <td>174.12</td>\n",
       "      <td>24.0</td>\n",
       "      <td>1</td>\n",
       "      <td>0</td>\n",
       "      <td>1</td>\n",
       "      <td>0</td>\n",
       "      <td>1</td>\n",
       "      <td>0</td>\n",
       "      <td>1</td>\n",
       "      <td>0</td>\n",
       "      <td>0</td>\n",
       "      <td>0</td>\n",
       "      <td>1</td>\n",
       "      <td>0</td>\n",
       "    </tr>\n",
       "  </tbody>\n",
       "</table>\n",
       "</div>"
      ],
      "text/plain": [
       "    age  avg_glucose_level   bmi  stroke  gender_Male  hypertension_1  \\\n",
       "0  67.0             228.69  36.6       1            1               0   \n",
       "1  61.0             202.21  27.8       1            0               0   \n",
       "2  80.0             105.92  32.5       1            1               0   \n",
       "3  49.0             171.23  34.4       1            0               0   \n",
       "4  79.0             174.12  24.0       1            0               1   \n",
       "\n",
       "   heart_disease_1  ever_married_Yes  work_type_Private  \\\n",
       "0                1                 1                  1   \n",
       "1                0                 1                  0   \n",
       "2                1                 1                  1   \n",
       "3                0                 1                  1   \n",
       "4                0                 1                  0   \n",
       "\n",
       "   work_type_Self-employed  work_type_children  Residence_type_Urban  \\\n",
       "0                        0                   0                     1   \n",
       "1                        1                   0                     0   \n",
       "2                        0                   0                     0   \n",
       "3                        0                   0                     1   \n",
       "4                        1                   0                     0   \n",
       "\n",
       "   smoking_status_formerly smoked  smoking_status_never smoked  \\\n",
       "0                               1                            0   \n",
       "1                               0                            1   \n",
       "2                               0                            1   \n",
       "3                               0                            0   \n",
       "4                               0                            1   \n",
       "\n",
       "   smoking_status_smokes  \n",
       "0                      0  \n",
       "1                      0  \n",
       "2                      0  \n",
       "3                      1  \n",
       "4                      0  "
      ]
     },
     "execution_count": 25,
     "metadata": {},
     "output_type": "execute_result"
    }
   ],
   "source": [
    "data=pd.get_dummies(data,drop_first=True)\n",
    "data.head()"
   ]
  },
  {
   "cell_type": "code",
   "execution_count": 26,
   "id": "6b0987ca",
   "metadata": {},
   "outputs": [
    {
     "data": {
      "text/plain": [
       "(5110, 15)"
      ]
     },
     "execution_count": 26,
     "metadata": {},
     "output_type": "execute_result"
    }
   ],
   "source": [
    "data.shape"
   ]
  },
  {
   "cell_type": "markdown",
   "id": "aeaa1c30",
   "metadata": {},
   "source": [
    "## Modeling "
   ]
  },
  {
   "cell_type": "markdown",
   "id": "41e3c04f",
   "metadata": {},
   "source": [
    "### 1) Base model"
   ]
  },
  {
   "cell_type": "code",
   "execution_count": 27,
   "id": "e83e9e93",
   "metadata": {},
   "outputs": [],
   "source": [
    "X=data.drop('stroke',axis=1)\n",
    "y=data.stroke"
   ]
  },
  {
   "cell_type": "code",
   "execution_count": 28,
   "id": "c8885f17",
   "metadata": {},
   "outputs": [],
   "source": [
    "from sklearn.model_selection import train_test_split"
   ]
  },
  {
   "cell_type": "code",
   "execution_count": 29,
   "id": "5fcbfc55",
   "metadata": {},
   "outputs": [],
   "source": [
    "x_train,x_test,y_train,y_test=train_test_split(X,y,test_size=0.2,stratify=y)"
   ]
  },
  {
   "cell_type": "code",
   "execution_count": 30,
   "id": "7c919c64",
   "metadata": {},
   "outputs": [],
   "source": [
    "import statsmodels.api as sma\n",
    "x_train=sma.add_constant(x_train)\n",
    "x_test=sma.add_constant(x_test)"
   ]
  },
  {
   "cell_type": "code",
   "execution_count": 31,
   "id": "3eb0fc31",
   "metadata": {},
   "outputs": [
    {
     "name": "stdout",
     "output_type": "stream",
     "text": [
      "(4088, 15)\n",
      "(4088,)\n",
      "(1022, 15)\n",
      "(1022,)\n"
     ]
    }
   ],
   "source": [
    "print(x_train.shape)\n",
    "print(y_train.shape)\n",
    "print(x_test.shape)\n",
    "print(y_test.shape)"
   ]
  },
  {
   "cell_type": "code",
   "execution_count": 32,
   "id": "8d15d066",
   "metadata": {},
   "outputs": [
    {
     "data": {
      "text/html": [
       "<div>\n",
       "<style scoped>\n",
       "    .dataframe tbody tr th:only-of-type {\n",
       "        vertical-align: middle;\n",
       "    }\n",
       "\n",
       "    .dataframe tbody tr th {\n",
       "        vertical-align: top;\n",
       "    }\n",
       "\n",
       "    .dataframe thead th {\n",
       "        text-align: right;\n",
       "    }\n",
       "</style>\n",
       "<table border=\"1\" class=\"dataframe\">\n",
       "  <thead>\n",
       "    <tr style=\"text-align: right;\">\n",
       "      <th></th>\n",
       "      <th>const</th>\n",
       "      <th>age</th>\n",
       "      <th>avg_glucose_level</th>\n",
       "      <th>bmi</th>\n",
       "      <th>gender_Male</th>\n",
       "      <th>hypertension_1</th>\n",
       "      <th>heart_disease_1</th>\n",
       "      <th>ever_married_Yes</th>\n",
       "      <th>work_type_Private</th>\n",
       "      <th>work_type_Self-employed</th>\n",
       "      <th>work_type_children</th>\n",
       "      <th>Residence_type_Urban</th>\n",
       "      <th>smoking_status_formerly smoked</th>\n",
       "      <th>smoking_status_never smoked</th>\n",
       "      <th>smoking_status_smokes</th>\n",
       "    </tr>\n",
       "  </thead>\n",
       "  <tbody>\n",
       "    <tr>\n",
       "      <th>117</th>\n",
       "      <td>1.0</td>\n",
       "      <td>74.0</td>\n",
       "      <td>72.96</td>\n",
       "      <td>31.3</td>\n",
       "      <td>1</td>\n",
       "      <td>0</td>\n",
       "      <td>0</td>\n",
       "      <td>1</td>\n",
       "      <td>1</td>\n",
       "      <td>0</td>\n",
       "      <td>0</td>\n",
       "      <td>1</td>\n",
       "      <td>0</td>\n",
       "      <td>0</td>\n",
       "      <td>1</td>\n",
       "    </tr>\n",
       "    <tr>\n",
       "      <th>4777</th>\n",
       "      <td>1.0</td>\n",
       "      <td>79.0</td>\n",
       "      <td>69.34</td>\n",
       "      <td>29.0</td>\n",
       "      <td>1</td>\n",
       "      <td>0</td>\n",
       "      <td>0</td>\n",
       "      <td>1</td>\n",
       "      <td>1</td>\n",
       "      <td>0</td>\n",
       "      <td>0</td>\n",
       "      <td>0</td>\n",
       "      <td>0</td>\n",
       "      <td>1</td>\n",
       "      <td>0</td>\n",
       "    </tr>\n",
       "    <tr>\n",
       "      <th>4772</th>\n",
       "      <td>1.0</td>\n",
       "      <td>18.0</td>\n",
       "      <td>97.65</td>\n",
       "      <td>21.5</td>\n",
       "      <td>0</td>\n",
       "      <td>0</td>\n",
       "      <td>0</td>\n",
       "      <td>0</td>\n",
       "      <td>1</td>\n",
       "      <td>0</td>\n",
       "      <td>0</td>\n",
       "      <td>1</td>\n",
       "      <td>0</td>\n",
       "      <td>0</td>\n",
       "      <td>0</td>\n",
       "    </tr>\n",
       "    <tr>\n",
       "      <th>199</th>\n",
       "      <td>1.0</td>\n",
       "      <td>74.0</td>\n",
       "      <td>74.96</td>\n",
       "      <td>26.6</td>\n",
       "      <td>0</td>\n",
       "      <td>0</td>\n",
       "      <td>0</td>\n",
       "      <td>1</td>\n",
       "      <td>0</td>\n",
       "      <td>1</td>\n",
       "      <td>0</td>\n",
       "      <td>1</td>\n",
       "      <td>0</td>\n",
       "      <td>1</td>\n",
       "      <td>0</td>\n",
       "    </tr>\n",
       "    <tr>\n",
       "      <th>672</th>\n",
       "      <td>1.0</td>\n",
       "      <td>17.0</td>\n",
       "      <td>67.81</td>\n",
       "      <td>55.7</td>\n",
       "      <td>0</td>\n",
       "      <td>0</td>\n",
       "      <td>0</td>\n",
       "      <td>0</td>\n",
       "      <td>1</td>\n",
       "      <td>0</td>\n",
       "      <td>0</td>\n",
       "      <td>1</td>\n",
       "      <td>0</td>\n",
       "      <td>1</td>\n",
       "      <td>0</td>\n",
       "    </tr>\n",
       "    <tr>\n",
       "      <th>...</th>\n",
       "      <td>...</td>\n",
       "      <td>...</td>\n",
       "      <td>...</td>\n",
       "      <td>...</td>\n",
       "      <td>...</td>\n",
       "      <td>...</td>\n",
       "      <td>...</td>\n",
       "      <td>...</td>\n",
       "      <td>...</td>\n",
       "      <td>...</td>\n",
       "      <td>...</td>\n",
       "      <td>...</td>\n",
       "      <td>...</td>\n",
       "      <td>...</td>\n",
       "      <td>...</td>\n",
       "    </tr>\n",
       "    <tr>\n",
       "      <th>4854</th>\n",
       "      <td>1.0</td>\n",
       "      <td>36.0</td>\n",
       "      <td>66.55</td>\n",
       "      <td>32.8</td>\n",
       "      <td>0</td>\n",
       "      <td>0</td>\n",
       "      <td>0</td>\n",
       "      <td>0</td>\n",
       "      <td>1</td>\n",
       "      <td>0</td>\n",
       "      <td>0</td>\n",
       "      <td>0</td>\n",
       "      <td>0</td>\n",
       "      <td>0</td>\n",
       "      <td>1</td>\n",
       "    </tr>\n",
       "    <tr>\n",
       "      <th>4101</th>\n",
       "      <td>1.0</td>\n",
       "      <td>61.0</td>\n",
       "      <td>93.97</td>\n",
       "      <td>39.4</td>\n",
       "      <td>0</td>\n",
       "      <td>0</td>\n",
       "      <td>0</td>\n",
       "      <td>1</td>\n",
       "      <td>1</td>\n",
       "      <td>0</td>\n",
       "      <td>0</td>\n",
       "      <td>0</td>\n",
       "      <td>0</td>\n",
       "      <td>0</td>\n",
       "      <td>0</td>\n",
       "    </tr>\n",
       "    <tr>\n",
       "      <th>2580</th>\n",
       "      <td>1.0</td>\n",
       "      <td>39.0</td>\n",
       "      <td>121.32</td>\n",
       "      <td>26.8</td>\n",
       "      <td>1</td>\n",
       "      <td>0</td>\n",
       "      <td>0</td>\n",
       "      <td>1</td>\n",
       "      <td>1</td>\n",
       "      <td>0</td>\n",
       "      <td>0</td>\n",
       "      <td>0</td>\n",
       "      <td>0</td>\n",
       "      <td>1</td>\n",
       "      <td>0</td>\n",
       "    </tr>\n",
       "    <tr>\n",
       "      <th>1532</th>\n",
       "      <td>1.0</td>\n",
       "      <td>59.0</td>\n",
       "      <td>79.18</td>\n",
       "      <td>52.8</td>\n",
       "      <td>0</td>\n",
       "      <td>0</td>\n",
       "      <td>0</td>\n",
       "      <td>1</td>\n",
       "      <td>1</td>\n",
       "      <td>0</td>\n",
       "      <td>0</td>\n",
       "      <td>0</td>\n",
       "      <td>1</td>\n",
       "      <td>0</td>\n",
       "      <td>0</td>\n",
       "    </tr>\n",
       "    <tr>\n",
       "      <th>4178</th>\n",
       "      <td>1.0</td>\n",
       "      <td>79.0</td>\n",
       "      <td>63.57</td>\n",
       "      <td>32.4</td>\n",
       "      <td>0</td>\n",
       "      <td>0</td>\n",
       "      <td>0</td>\n",
       "      <td>1</td>\n",
       "      <td>0</td>\n",
       "      <td>0</td>\n",
       "      <td>0</td>\n",
       "      <td>1</td>\n",
       "      <td>0</td>\n",
       "      <td>1</td>\n",
       "      <td>0</td>\n",
       "    </tr>\n",
       "  </tbody>\n",
       "</table>\n",
       "<p>4088 rows × 15 columns</p>\n",
       "</div>"
      ],
      "text/plain": [
       "      const   age  avg_glucose_level   bmi  gender_Male  hypertension_1  \\\n",
       "117     1.0  74.0              72.96  31.3            1               0   \n",
       "4777    1.0  79.0              69.34  29.0            1               0   \n",
       "4772    1.0  18.0              97.65  21.5            0               0   \n",
       "199     1.0  74.0              74.96  26.6            0               0   \n",
       "672     1.0  17.0              67.81  55.7            0               0   \n",
       "...     ...   ...                ...   ...          ...             ...   \n",
       "4854    1.0  36.0              66.55  32.8            0               0   \n",
       "4101    1.0  61.0              93.97  39.4            0               0   \n",
       "2580    1.0  39.0             121.32  26.8            1               0   \n",
       "1532    1.0  59.0              79.18  52.8            0               0   \n",
       "4178    1.0  79.0              63.57  32.4            0               0   \n",
       "\n",
       "      heart_disease_1  ever_married_Yes  work_type_Private  \\\n",
       "117                 0                 1                  1   \n",
       "4777                0                 1                  1   \n",
       "4772                0                 0                  1   \n",
       "199                 0                 1                  0   \n",
       "672                 0                 0                  1   \n",
       "...               ...               ...                ...   \n",
       "4854                0                 0                  1   \n",
       "4101                0                 1                  1   \n",
       "2580                0                 1                  1   \n",
       "1532                0                 1                  1   \n",
       "4178                0                 1                  0   \n",
       "\n",
       "      work_type_Self-employed  work_type_children  Residence_type_Urban  \\\n",
       "117                         0                   0                     1   \n",
       "4777                        0                   0                     0   \n",
       "4772                        0                   0                     1   \n",
       "199                         1                   0                     1   \n",
       "672                         0                   0                     1   \n",
       "...                       ...                 ...                   ...   \n",
       "4854                        0                   0                     0   \n",
       "4101                        0                   0                     0   \n",
       "2580                        0                   0                     0   \n",
       "1532                        0                   0                     0   \n",
       "4178                        0                   0                     1   \n",
       "\n",
       "      smoking_status_formerly smoked  smoking_status_never smoked  \\\n",
       "117                                0                            0   \n",
       "4777                               0                            1   \n",
       "4772                               0                            0   \n",
       "199                                0                            1   \n",
       "672                                0                            1   \n",
       "...                              ...                          ...   \n",
       "4854                               0                            0   \n",
       "4101                               0                            0   \n",
       "2580                               0                            1   \n",
       "1532                               1                            0   \n",
       "4178                               0                            1   \n",
       "\n",
       "      smoking_status_smokes  \n",
       "117                       1  \n",
       "4777                      0  \n",
       "4772                      0  \n",
       "199                       0  \n",
       "672                       0  \n",
       "...                     ...  \n",
       "4854                      1  \n",
       "4101                      0  \n",
       "2580                      0  \n",
       "1532                      0  \n",
       "4178                      0  \n",
       "\n",
       "[4088 rows x 15 columns]"
      ]
     },
     "execution_count": 32,
     "metadata": {},
     "output_type": "execute_result"
    }
   ],
   "source": [
    "x_train"
   ]
  },
  {
   "cell_type": "code",
   "execution_count": 33,
   "id": "2e41b7a7",
   "metadata": {},
   "outputs": [
    {
     "name": "stdout",
     "output_type": "stream",
     "text": [
      "Optimization terminated successfully.\n",
      "         Current function value: 0.155899\n",
      "         Iterations 10\n"
     ]
    },
    {
     "data": {
      "text/html": [
       "<table class=\"simpletable\">\n",
       "<caption>Logit Regression Results</caption>\n",
       "<tr>\n",
       "  <th>Dep. Variable:</th>        <td>stroke</td>      <th>  No. Observations:  </th>  <td>  4088</td>  \n",
       "</tr>\n",
       "<tr>\n",
       "  <th>Model:</th>                 <td>Logit</td>      <th>  Df Residuals:      </th>  <td>  4073</td>  \n",
       "</tr>\n",
       "<tr>\n",
       "  <th>Method:</th>                 <td>MLE</td>       <th>  Df Model:          </th>  <td>    14</td>  \n",
       "</tr>\n",
       "<tr>\n",
       "  <th>Date:</th>            <td>Mon, 21 Nov 2022</td> <th>  Pseudo R-squ.:     </th>  <td>0.1989</td>  \n",
       "</tr>\n",
       "<tr>\n",
       "  <th>Time:</th>                <td>00:48:57</td>     <th>  Log-Likelihood:    </th> <td> -637.31</td> \n",
       "</tr>\n",
       "<tr>\n",
       "  <th>converged:</th>             <td>True</td>       <th>  LL-Null:           </th> <td> -795.55</td> \n",
       "</tr>\n",
       "<tr>\n",
       "  <th>Covariance Type:</th>     <td>nonrobust</td>    <th>  LLR p-value:       </th> <td>4.287e-59</td>\n",
       "</tr>\n",
       "</table>\n",
       "<table class=\"simpletable\">\n",
       "<tr>\n",
       "                 <td></td>                   <th>coef</th>     <th>std err</th>      <th>z</th>      <th>P>|z|</th>  <th>[0.025</th>    <th>0.975]</th>  \n",
       "</tr>\n",
       "<tr>\n",
       "  <th>const</th>                          <td>   -7.7427</td> <td>    0.669</td> <td>  -11.575</td> <td> 0.000</td> <td>   -9.054</td> <td>   -6.432</td>\n",
       "</tr>\n",
       "<tr>\n",
       "  <th>age</th>                            <td>    0.0713</td> <td>    0.006</td> <td>   11.207</td> <td> 0.000</td> <td>    0.059</td> <td>    0.084</td>\n",
       "</tr>\n",
       "<tr>\n",
       "  <th>avg_glucose_level</th>              <td>    0.0036</td> <td>    0.001</td> <td>    2.675</td> <td> 0.007</td> <td>    0.001</td> <td>    0.006</td>\n",
       "</tr>\n",
       "<tr>\n",
       "  <th>bmi</th>                            <td>    0.0050</td> <td>    0.012</td> <td>    0.407</td> <td> 0.684</td> <td>   -0.019</td> <td>    0.029</td>\n",
       "</tr>\n",
       "<tr>\n",
       "  <th>gender_Male</th>                    <td>    0.0388</td> <td>    0.158</td> <td>    0.246</td> <td> 0.806</td> <td>   -0.270</td> <td>    0.348</td>\n",
       "</tr>\n",
       "<tr>\n",
       "  <th>hypertension_1</th>                 <td>    0.4336</td> <td>    0.184</td> <td>    2.361</td> <td> 0.018</td> <td>    0.074</td> <td>    0.793</td>\n",
       "</tr>\n",
       "<tr>\n",
       "  <th>heart_disease_1</th>                <td>    0.3305</td> <td>    0.213</td> <td>    1.552</td> <td> 0.121</td> <td>   -0.087</td> <td>    0.748</td>\n",
       "</tr>\n",
       "<tr>\n",
       "  <th>ever_married_Yes</th>               <td>   -0.2617</td> <td>    0.242</td> <td>   -1.083</td> <td> 0.279</td> <td>   -0.735</td> <td>    0.212</td>\n",
       "</tr>\n",
       "<tr>\n",
       "  <th>work_type_Private</th>              <td>    0.1285</td> <td>    0.231</td> <td>    0.555</td> <td> 0.579</td> <td>   -0.325</td> <td>    0.582</td>\n",
       "</tr>\n",
       "<tr>\n",
       "  <th>work_type_Self-employed</th>        <td>   -0.2309</td> <td>    0.263</td> <td>   -0.878</td> <td> 0.380</td> <td>   -0.747</td> <td>    0.285</td>\n",
       "</tr>\n",
       "<tr>\n",
       "  <th>work_type_children</th>             <td>    0.3911</td> <td>    1.112</td> <td>    0.352</td> <td> 0.725</td> <td>   -1.788</td> <td>    2.571</td>\n",
       "</tr>\n",
       "<tr>\n",
       "  <th>Residence_type_Urban</th>           <td>    0.0732</td> <td>    0.155</td> <td>    0.473</td> <td> 0.636</td> <td>   -0.230</td> <td>    0.377</td>\n",
       "</tr>\n",
       "<tr>\n",
       "  <th>smoking_status_formerly smoked</th> <td>    0.2374</td> <td>    0.240</td> <td>    0.989</td> <td> 0.323</td> <td>   -0.233</td> <td>    0.708</td>\n",
       "</tr>\n",
       "<tr>\n",
       "  <th>smoking_status_never smoked</th>    <td>    0.0806</td> <td>    0.227</td> <td>    0.356</td> <td> 0.722</td> <td>   -0.363</td> <td>    0.525</td>\n",
       "</tr>\n",
       "<tr>\n",
       "  <th>smoking_status_smokes</th>          <td>    0.3241</td> <td>    0.266</td> <td>    1.217</td> <td> 0.224</td> <td>   -0.198</td> <td>    0.846</td>\n",
       "</tr>\n",
       "</table>"
      ],
      "text/plain": [
       "<class 'statsmodels.iolib.summary.Summary'>\n",
       "\"\"\"\n",
       "                           Logit Regression Results                           \n",
       "==============================================================================\n",
       "Dep. Variable:                 stroke   No. Observations:                 4088\n",
       "Model:                          Logit   Df Residuals:                     4073\n",
       "Method:                           MLE   Df Model:                           14\n",
       "Date:                Mon, 21 Nov 2022   Pseudo R-squ.:                  0.1989\n",
       "Time:                        00:48:57   Log-Likelihood:                -637.31\n",
       "converged:                       True   LL-Null:                       -795.55\n",
       "Covariance Type:            nonrobust   LLR p-value:                 4.287e-59\n",
       "==================================================================================================\n",
       "                                     coef    std err          z      P>|z|      [0.025      0.975]\n",
       "--------------------------------------------------------------------------------------------------\n",
       "const                             -7.7427      0.669    -11.575      0.000      -9.054      -6.432\n",
       "age                                0.0713      0.006     11.207      0.000       0.059       0.084\n",
       "avg_glucose_level                  0.0036      0.001      2.675      0.007       0.001       0.006\n",
       "bmi                                0.0050      0.012      0.407      0.684      -0.019       0.029\n",
       "gender_Male                        0.0388      0.158      0.246      0.806      -0.270       0.348\n",
       "hypertension_1                     0.4336      0.184      2.361      0.018       0.074       0.793\n",
       "heart_disease_1                    0.3305      0.213      1.552      0.121      -0.087       0.748\n",
       "ever_married_Yes                  -0.2617      0.242     -1.083      0.279      -0.735       0.212\n",
       "work_type_Private                  0.1285      0.231      0.555      0.579      -0.325       0.582\n",
       "work_type_Self-employed           -0.2309      0.263     -0.878      0.380      -0.747       0.285\n",
       "work_type_children                 0.3911      1.112      0.352      0.725      -1.788       2.571\n",
       "Residence_type_Urban               0.0732      0.155      0.473      0.636      -0.230       0.377\n",
       "smoking_status_formerly smoked     0.2374      0.240      0.989      0.323      -0.233       0.708\n",
       "smoking_status_never smoked        0.0806      0.227      0.356      0.722      -0.363       0.525\n",
       "smoking_status_smokes              0.3241      0.266      1.217      0.224      -0.198       0.846\n",
       "==================================================================================================\n",
       "\"\"\""
      ]
     },
     "execution_count": 33,
     "metadata": {},
     "output_type": "execute_result"
    }
   ],
   "source": [
    "model=sma.Logit(y_train,x_train).fit()\n",
    "model.summary()"
   ]
  },
  {
   "cell_type": "code",
   "execution_count": 34,
   "id": "5608eee4",
   "metadata": {},
   "outputs": [],
   "source": [
    "from imblearn.over_sampling import SMOTE\n",
    "s=SMOTE()\n",
    "x_train_os,y_train_os=s.fit_resample(x_train,y_train)\n"
   ]
  },
  {
   "cell_type": "code",
   "execution_count": 35,
   "id": "6d89800b",
   "metadata": {},
   "outputs": [
    {
     "name": "stdout",
     "output_type": "stream",
     "text": [
      "Optimization terminated successfully.\n",
      "         Current function value: 0.323797\n",
      "         Iterations 10\n"
     ]
    },
    {
     "data": {
      "text/html": [
       "<table class=\"simpletable\">\n",
       "<caption>Logit Regression Results</caption>\n",
       "<tr>\n",
       "  <th>Dep. Variable:</th>        <td>stroke</td>      <th>  No. Observations:  </th>  <td>  7778</td> \n",
       "</tr>\n",
       "<tr>\n",
       "  <th>Model:</th>                 <td>Logit</td>      <th>  Df Residuals:      </th>  <td>  7763</td> \n",
       "</tr>\n",
       "<tr>\n",
       "  <th>Method:</th>                 <td>MLE</td>       <th>  Df Model:          </th>  <td>    14</td> \n",
       "</tr>\n",
       "<tr>\n",
       "  <th>Date:</th>            <td>Mon, 21 Nov 2022</td> <th>  Pseudo R-squ.:     </th>  <td>0.5329</td> \n",
       "</tr>\n",
       "<tr>\n",
       "  <th>Time:</th>                <td>00:48:57</td>     <th>  Log-Likelihood:    </th> <td> -2518.5</td>\n",
       "</tr>\n",
       "<tr>\n",
       "  <th>converged:</th>             <td>True</td>       <th>  LL-Null:           </th> <td> -5391.3</td>\n",
       "</tr>\n",
       "<tr>\n",
       "  <th>Covariance Type:</th>     <td>nonrobust</td>    <th>  LLR p-value:       </th>  <td> 0.000</td> \n",
       "</tr>\n",
       "</table>\n",
       "<table class=\"simpletable\">\n",
       "<tr>\n",
       "                 <td></td>                   <th>coef</th>     <th>std err</th>      <th>z</th>      <th>P>|z|</th>  <th>[0.025</th>    <th>0.975]</th>  \n",
       "</tr>\n",
       "<tr>\n",
       "  <th>const</th>                          <td>   -3.2930</td> <td>    0.257</td> <td>  -12.800</td> <td> 0.000</td> <td>   -3.797</td> <td>   -2.789</td>\n",
       "</tr>\n",
       "<tr>\n",
       "  <th>age</th>                            <td>    0.0951</td> <td>    0.003</td> <td>   33.199</td> <td> 0.000</td> <td>    0.089</td> <td>    0.101</td>\n",
       "</tr>\n",
       "<tr>\n",
       "  <th>avg_glucose_level</th>              <td>    0.0059</td> <td>    0.001</td> <td>    8.598</td> <td> 0.000</td> <td>    0.005</td> <td>    0.007</td>\n",
       "</tr>\n",
       "<tr>\n",
       "  <th>bmi</th>                            <td>    0.0171</td> <td>    0.006</td> <td>    2.883</td> <td> 0.004</td> <td>    0.005</td> <td>    0.029</td>\n",
       "</tr>\n",
       "<tr>\n",
       "  <th>gender_Male</th>                    <td>   -0.8401</td> <td>    0.078</td> <td>  -10.804</td> <td> 0.000</td> <td>   -0.993</td> <td>   -0.688</td>\n",
       "</tr>\n",
       "<tr>\n",
       "  <th>hypertension_1</th>                 <td>   -0.5867</td> <td>    0.119</td> <td>   -4.950</td> <td> 0.000</td> <td>   -0.819</td> <td>   -0.354</td>\n",
       "</tr>\n",
       "<tr>\n",
       "  <th>heart_disease_1</th>                <td>   -0.8515</td> <td>    0.156</td> <td>   -5.452</td> <td> 0.000</td> <td>   -1.158</td> <td>   -0.545</td>\n",
       "</tr>\n",
       "<tr>\n",
       "  <th>ever_married_Yes</th>               <td>   -0.4943</td> <td>    0.101</td> <td>   -4.881</td> <td> 0.000</td> <td>   -0.693</td> <td>   -0.296</td>\n",
       "</tr>\n",
       "<tr>\n",
       "  <th>work_type_Private</th>              <td>   -1.3567</td> <td>    0.085</td> <td>  -16.033</td> <td> 0.000</td> <td>   -1.523</td> <td>   -1.191</td>\n",
       "</tr>\n",
       "<tr>\n",
       "  <th>work_type_Self-employed</th>        <td>   -2.4835</td> <td>    0.119</td> <td>  -20.907</td> <td> 0.000</td> <td>   -2.716</td> <td>   -2.251</td>\n",
       "</tr>\n",
       "<tr>\n",
       "  <th>work_type_children</th>             <td>   -3.8636</td> <td>    1.016</td> <td>   -3.802</td> <td> 0.000</td> <td>   -5.855</td> <td>   -1.872</td>\n",
       "</tr>\n",
       "<tr>\n",
       "  <th>Residence_type_Urban</th>           <td>   -0.8447</td> <td>    0.074</td> <td>  -11.463</td> <td> 0.000</td> <td>   -0.989</td> <td>   -0.700</td>\n",
       "</tr>\n",
       "<tr>\n",
       "  <th>smoking_status_formerly smoked</th> <td>   -2.1483</td> <td>    0.106</td> <td>  -20.183</td> <td> 0.000</td> <td>   -2.357</td> <td>   -1.940</td>\n",
       "</tr>\n",
       "<tr>\n",
       "  <th>smoking_status_never smoked</th>    <td>   -2.1808</td> <td>    0.089</td> <td>  -24.606</td> <td> 0.000</td> <td>   -2.354</td> <td>   -2.007</td>\n",
       "</tr>\n",
       "<tr>\n",
       "  <th>smoking_status_smokes</th>          <td>   -2.2382</td> <td>    0.129</td> <td>  -17.396</td> <td> 0.000</td> <td>   -2.490</td> <td>   -1.986</td>\n",
       "</tr>\n",
       "</table>"
      ],
      "text/plain": [
       "<class 'statsmodels.iolib.summary.Summary'>\n",
       "\"\"\"\n",
       "                           Logit Regression Results                           \n",
       "==============================================================================\n",
       "Dep. Variable:                 stroke   No. Observations:                 7778\n",
       "Model:                          Logit   Df Residuals:                     7763\n",
       "Method:                           MLE   Df Model:                           14\n",
       "Date:                Mon, 21 Nov 2022   Pseudo R-squ.:                  0.5329\n",
       "Time:                        00:48:57   Log-Likelihood:                -2518.5\n",
       "converged:                       True   LL-Null:                       -5391.3\n",
       "Covariance Type:            nonrobust   LLR p-value:                     0.000\n",
       "==================================================================================================\n",
       "                                     coef    std err          z      P>|z|      [0.025      0.975]\n",
       "--------------------------------------------------------------------------------------------------\n",
       "const                             -3.2930      0.257    -12.800      0.000      -3.797      -2.789\n",
       "age                                0.0951      0.003     33.199      0.000       0.089       0.101\n",
       "avg_glucose_level                  0.0059      0.001      8.598      0.000       0.005       0.007\n",
       "bmi                                0.0171      0.006      2.883      0.004       0.005       0.029\n",
       "gender_Male                       -0.8401      0.078    -10.804      0.000      -0.993      -0.688\n",
       "hypertension_1                    -0.5867      0.119     -4.950      0.000      -0.819      -0.354\n",
       "heart_disease_1                   -0.8515      0.156     -5.452      0.000      -1.158      -0.545\n",
       "ever_married_Yes                  -0.4943      0.101     -4.881      0.000      -0.693      -0.296\n",
       "work_type_Private                 -1.3567      0.085    -16.033      0.000      -1.523      -1.191\n",
       "work_type_Self-employed           -2.4835      0.119    -20.907      0.000      -2.716      -2.251\n",
       "work_type_children                -3.8636      1.016     -3.802      0.000      -5.855      -1.872\n",
       "Residence_type_Urban              -0.8447      0.074    -11.463      0.000      -0.989      -0.700\n",
       "smoking_status_formerly smoked    -2.1483      0.106    -20.183      0.000      -2.357      -1.940\n",
       "smoking_status_never smoked       -2.1808      0.089    -24.606      0.000      -2.354      -2.007\n",
       "smoking_status_smokes             -2.2382      0.129    -17.396      0.000      -2.490      -1.986\n",
       "==================================================================================================\n",
       "\"\"\""
      ]
     },
     "execution_count": 35,
     "metadata": {},
     "output_type": "execute_result"
    }
   ],
   "source": [
    "model=sma.Logit(y_train_os,x_train_os).fit()\n",
    "model.summary()"
   ]
  },
  {
   "cell_type": "code",
   "execution_count": 36,
   "id": "37c16d5b",
   "metadata": {},
   "outputs": [
    {
     "data": {
      "text/plain": [
       "1    3889\n",
       "0    3889\n",
       "Name: stroke, dtype: int64"
      ]
     },
     "execution_count": 36,
     "metadata": {},
     "output_type": "execute_result"
    }
   ],
   "source": [
    "y_train_os.value_counts()"
   ]
  },
  {
   "cell_type": "code",
   "execution_count": 37,
   "id": "5de95dc8",
   "metadata": {},
   "outputs": [],
   "source": [
    "from sklearn.metrics import confusion_matrix,classification_report,cohen_kappa_score,accuracy_score,recall_score"
   ]
  },
  {
   "cell_type": "code",
   "execution_count": 38,
   "id": "03da0bc4",
   "metadata": {},
   "outputs": [],
   "source": [
    "def score(acu,pred):\n",
    "    print('confusion_matrix \\n',confusion_matrix(acu,pred))\n",
    "    print('cohen_kappa_score ',cohen_kappa_score(acu,pred))\n",
    "    print('accuracy_score ',accuracy_score(acu,pred))\n",
    "    print('recall_score ',recall_score(acu,pred))\n",
    "    print('classification_report \\n',classification_report(acu,pred))"
   ]
  },
  {
   "cell_type": "code",
   "execution_count": 39,
   "id": "d8acc69b",
   "metadata": {},
   "outputs": [],
   "source": [
    "y_pred_prob=model.predict(x_test)"
   ]
  },
  {
   "cell_type": "code",
   "execution_count": 40,
   "id": "36eaa83a",
   "metadata": {},
   "outputs": [
    {
     "name": "stdout",
     "output_type": "stream",
     "text": [
      "confusion_matrix \n",
      " [[855 117]\n",
      " [ 27  23]]\n",
      "cohen_kappa_score  0.18321678321678314\n",
      "accuracy_score  0.8590998043052838\n",
      "recall_score  0.46\n",
      "classification_report \n",
      "               precision    recall  f1-score   support\n",
      "\n",
      "           0       0.97      0.88      0.92       972\n",
      "           1       0.16      0.46      0.24        50\n",
      "\n",
      "    accuracy                           0.86      1022\n",
      "   macro avg       0.57      0.67      0.58      1022\n",
      "weighted avg       0.93      0.86      0.89      1022\n",
      "\n"
     ]
    }
   ],
   "source": [
    "y_pred=[0 if x<0.5 else 1 for x in y_pred_prob]\n",
    "score(y_test,y_pred)"
   ]
  },
  {
   "cell_type": "markdown",
   "id": "a78dfd92",
   "metadata": {},
   "source": [
    "### 2)Knn"
   ]
  },
  {
   "cell_type": "code",
   "execution_count": 41,
   "id": "2b138c32",
   "metadata": {},
   "outputs": [
    {
     "name": "stdout",
     "output_type": "stream",
     "text": [
      "confusion_matrix \n",
      " [[781 191]\n",
      " [ 24  26]]\n",
      "cohen_kappa_score  0.12518811660442553\n",
      "accuracy_score  0.7896281800391389\n",
      "recall_score  0.52\n",
      "classification_report \n",
      "               precision    recall  f1-score   support\n",
      "\n",
      "           0       0.97      0.80      0.88       972\n",
      "           1       0.12      0.52      0.19        50\n",
      "\n",
      "    accuracy                           0.79      1022\n",
      "   macro avg       0.55      0.66      0.54      1022\n",
      "weighted avg       0.93      0.79      0.85      1022\n",
      "\n",
      "None\n"
     ]
    }
   ],
   "source": [
    "from sklearn.neighbors import KNeighborsClassifier\n",
    "knn=KNeighborsClassifier(n_neighbors=5)\n",
    "knn.fit(x_train_os,y_train_os)\n",
    "y_pred_knn=knn.predict(x_test)\n",
    "print(score(y_test,y_pred_knn))"
   ]
  },
  {
   "cell_type": "markdown",
   "id": "5735767d",
   "metadata": {},
   "source": [
    "### 3) Naive Bayes"
   ]
  },
  {
   "cell_type": "code",
   "execution_count": 42,
   "id": "4ffe907a",
   "metadata": {},
   "outputs": [
    {
     "name": "stdout",
     "output_type": "stream",
     "text": [
      "confusion_matrix \n",
      " [[563 409]\n",
      " [ 10  40]]\n",
      "cohen_kappa_score  0.07925552272952074\n",
      "accuracy_score  0.5900195694716243\n",
      "recall_score  0.8\n",
      "classification_report \n",
      "               precision    recall  f1-score   support\n",
      "\n",
      "           0       0.98      0.58      0.73       972\n",
      "           1       0.09      0.80      0.16        50\n",
      "\n",
      "    accuracy                           0.59      1022\n",
      "   macro avg       0.54      0.69      0.44      1022\n",
      "weighted avg       0.94      0.59      0.70      1022\n",
      "\n",
      "None\n"
     ]
    }
   ],
   "source": [
    "from sklearn.naive_bayes import GaussianNB\n",
    "nb=GaussianNB()\n",
    "nb.fit(x_train_os,y_train_os)\n",
    "y_pred_nb=nb.predict(x_test)\n",
    "print(score(y_test,y_pred_nb))"
   ]
  },
  {
   "cell_type": "markdown",
   "id": "68d159d9",
   "metadata": {},
   "source": [
    "### 4) Decision tree"
   ]
  },
  {
   "cell_type": "code",
   "execution_count": 43,
   "id": "9e4e18f1",
   "metadata": {},
   "outputs": [
    {
     "name": "stdout",
     "output_type": "stream",
     "text": [
      "confusion_matrix \n",
      " [[887  85]\n",
      " [ 40  10]]\n",
      "cohen_kappa_score  0.07888095753118474\n",
      "accuracy_score  0.8776908023483366\n",
      "recall_score  0.2\n",
      "classification_report \n",
      "               precision    recall  f1-score   support\n",
      "\n",
      "           0       0.96      0.91      0.93       972\n",
      "           1       0.11      0.20      0.14        50\n",
      "\n",
      "    accuracy                           0.88      1022\n",
      "   macro avg       0.53      0.56      0.54      1022\n",
      "weighted avg       0.92      0.88      0.90      1022\n",
      "\n",
      "None\n"
     ]
    }
   ],
   "source": [
    "from sklearn.tree import DecisionTreeClassifier\n",
    "dt=DecisionTreeClassifier(criterion='entropy')\n",
    "dt.fit(x_train_os,y_train_os)\n",
    "y_pred_dt=dt.predict(x_test)\n",
    "print(score(y_test,y_pred_dt))"
   ]
  },
  {
   "cell_type": "code",
   "execution_count": 50,
   "id": "a63c5458",
   "metadata": {},
   "outputs": [
    {
     "name": "stdout",
     "output_type": "stream",
     "text": [
      "Fitting 3 folds for each of 18 candidates, totalling 54 fits\n",
      "[CV 1/3] END criterion=entropy, max_depth=7, max_features=12;, score=0.841 total time=   0.0s\n",
      "[CV 2/3] END criterion=entropy, max_depth=7, max_features=12;, score=0.873 total time=   0.0s\n",
      "[CV 3/3] END criterion=entropy, max_depth=7, max_features=12;, score=0.874 total time=   0.0s\n",
      "[CV 1/3] END criterion=entropy, max_depth=7, max_features=13;, score=0.843 total time=   0.0s\n",
      "[CV 2/3] END criterion=entropy, max_depth=7, max_features=13;, score=0.891 total time=   0.0s\n",
      "[CV 3/3] END criterion=entropy, max_depth=7, max_features=13;, score=0.892 total time=   0.0s\n",
      "[CV 1/3] END criterion=entropy, max_depth=7, max_features=14;, score=0.847 total time=   0.0s\n",
      "[CV 2/3] END criterion=entropy, max_depth=7, max_features=14;, score=0.885 total time=   0.0s\n",
      "[CV 3/3] END criterion=entropy, max_depth=7, max_features=14;, score=0.870 total time=   0.0s\n",
      "[CV 1/3] END criterion=entropy, max_depth=8, max_features=12;, score=0.856 total time=   0.0s\n",
      "[CV 2/3] END criterion=entropy, max_depth=8, max_features=12;, score=0.886 total time=   0.0s\n",
      "[CV 3/3] END criterion=entropy, max_depth=8, max_features=12;, score=0.892 total time=   0.0s\n",
      "[CV 1/3] END criterion=entropy, max_depth=8, max_features=13;, score=0.864 total time=   0.0s\n",
      "[CV 2/3] END criterion=entropy, max_depth=8, max_features=13;, score=0.889 total time=   0.0s\n",
      "[CV 3/3] END criterion=entropy, max_depth=8, max_features=13;, score=0.898 total time=   0.0s\n",
      "[CV 1/3] END criterion=entropy, max_depth=8, max_features=14;, score=0.858 total time=   0.0s\n",
      "[CV 2/3] END criterion=entropy, max_depth=8, max_features=14;, score=0.894 total time=   0.0s\n",
      "[CV 3/3] END criterion=entropy, max_depth=8, max_features=14;, score=0.893 total time=   0.0s\n",
      "[CV 1/3] END criterion=entropy, max_depth=9, max_features=12;, score=0.867 total time=   0.0s\n",
      "[CV 2/3] END criterion=entropy, max_depth=9, max_features=12;, score=0.904 total time=   0.0s\n",
      "[CV 3/3] END criterion=entropy, max_depth=9, max_features=12;, score=0.892 total time=   0.0s\n",
      "[CV 1/3] END criterion=entropy, max_depth=9, max_features=13;, score=0.879 total time=   0.0s\n",
      "[CV 2/3] END criterion=entropy, max_depth=9, max_features=13;, score=0.891 total time=   0.0s\n",
      "[CV 3/3] END criterion=entropy, max_depth=9, max_features=13;, score=0.895 total time=   0.0s\n",
      "[CV 1/3] END criterion=entropy, max_depth=9, max_features=14;, score=0.873 total time=   0.0s\n",
      "[CV 2/3] END criterion=entropy, max_depth=9, max_features=14;, score=0.905 total time=   0.0s\n",
      "[CV 3/3] END criterion=entropy, max_depth=9, max_features=14;, score=0.900 total time=   0.0s\n",
      "[CV 1/3] END criterion=entropy, max_depth=10, max_features=12;, score=0.867 total time=   0.0s\n",
      "[CV 2/3] END criterion=entropy, max_depth=10, max_features=12;, score=0.924 total time=   0.0s\n",
      "[CV 3/3] END criterion=entropy, max_depth=10, max_features=12;, score=0.901 total time=   0.0s\n",
      "[CV 1/3] END criterion=entropy, max_depth=10, max_features=13;, score=0.877 total time=   0.0s\n",
      "[CV 2/3] END criterion=entropy, max_depth=10, max_features=13;, score=0.912 total time=   0.0s\n",
      "[CV 3/3] END criterion=entropy, max_depth=10, max_features=13;, score=0.903 total time=   0.0s\n",
      "[CV 1/3] END criterion=entropy, max_depth=10, max_features=14;, score=0.869 total time=   0.0s\n",
      "[CV 2/3] END criterion=entropy, max_depth=10, max_features=14;, score=0.912 total time=   0.0s\n",
      "[CV 3/3] END criterion=entropy, max_depth=10, max_features=14;, score=0.909 total time=   0.0s\n",
      "[CV 1/3] END criterion=entropy, max_depth=11, max_features=12;, score=0.877 total time=   0.0s\n",
      "[CV 2/3] END criterion=entropy, max_depth=11, max_features=12;, score=0.921 total time=   0.0s\n",
      "[CV 3/3] END criterion=entropy, max_depth=11, max_features=12;, score=0.896 total time=   0.0s\n",
      "[CV 1/3] END criterion=entropy, max_depth=11, max_features=13;, score=0.880 total time=   0.0s\n",
      "[CV 2/3] END criterion=entropy, max_depth=11, max_features=13;, score=0.910 total time=   0.0s\n",
      "[CV 3/3] END criterion=entropy, max_depth=11, max_features=13;, score=0.912 total time=   0.0s\n",
      "[CV 1/3] END criterion=entropy, max_depth=11, max_features=14;, score=0.871 total time=   0.0s\n",
      "[CV 2/3] END criterion=entropy, max_depth=11, max_features=14;, score=0.918 total time=   0.0s\n",
      "[CV 3/3] END criterion=entropy, max_depth=11, max_features=14;, score=0.917 total time=   0.0s\n",
      "[CV 1/3] END criterion=entropy, max_depth=12, max_features=12;, score=0.886 total time=   0.0s\n",
      "[CV 2/3] END criterion=entropy, max_depth=12, max_features=12;, score=0.925 total time=   0.0s\n",
      "[CV 3/3] END criterion=entropy, max_depth=12, max_features=12;, score=0.913 total time=   0.0s\n",
      "[CV 1/3] END criterion=entropy, max_depth=12, max_features=13;, score=0.892 total time=   0.0s\n",
      "[CV 2/3] END criterion=entropy, max_depth=12, max_features=13;, score=0.916 total time=   0.0s\n",
      "[CV 3/3] END criterion=entropy, max_depth=12, max_features=13;, score=0.919 total time=   0.0s\n",
      "[CV 1/3] END criterion=entropy, max_depth=12, max_features=14;, score=0.886 total time=   0.0s\n",
      "[CV 2/3] END criterion=entropy, max_depth=12, max_features=14;, score=0.917 total time=   0.0s\n",
      "[CV 3/3] END criterion=entropy, max_depth=12, max_features=14;, score=0.914 total time=   0.0s\n"
     ]
    },
    {
     "data": {
      "text/html": [
       "<style>#sk-container-id-3 {color: black;background-color: white;}#sk-container-id-3 pre{padding: 0;}#sk-container-id-3 div.sk-toggleable {background-color: white;}#sk-container-id-3 label.sk-toggleable__label {cursor: pointer;display: block;width: 100%;margin-bottom: 0;padding: 0.3em;box-sizing: border-box;text-align: center;}#sk-container-id-3 label.sk-toggleable__label-arrow:before {content: \"▸\";float: left;margin-right: 0.25em;color: #696969;}#sk-container-id-3 label.sk-toggleable__label-arrow:hover:before {color: black;}#sk-container-id-3 div.sk-estimator:hover label.sk-toggleable__label-arrow:before {color: black;}#sk-container-id-3 div.sk-toggleable__content {max-height: 0;max-width: 0;overflow: hidden;text-align: left;background-color: #f0f8ff;}#sk-container-id-3 div.sk-toggleable__content pre {margin: 0.2em;color: black;border-radius: 0.25em;background-color: #f0f8ff;}#sk-container-id-3 input.sk-toggleable__control:checked~div.sk-toggleable__content {max-height: 200px;max-width: 100%;overflow: auto;}#sk-container-id-3 input.sk-toggleable__control:checked~label.sk-toggleable__label-arrow:before {content: \"▾\";}#sk-container-id-3 div.sk-estimator input.sk-toggleable__control:checked~label.sk-toggleable__label {background-color: #d4ebff;}#sk-container-id-3 div.sk-label input.sk-toggleable__control:checked~label.sk-toggleable__label {background-color: #d4ebff;}#sk-container-id-3 input.sk-hidden--visually {border: 0;clip: rect(1px 1px 1px 1px);clip: rect(1px, 1px, 1px, 1px);height: 1px;margin: -1px;overflow: hidden;padding: 0;position: absolute;width: 1px;}#sk-container-id-3 div.sk-estimator {font-family: monospace;background-color: #f0f8ff;border: 1px dotted black;border-radius: 0.25em;box-sizing: border-box;margin-bottom: 0.5em;}#sk-container-id-3 div.sk-estimator:hover {background-color: #d4ebff;}#sk-container-id-3 div.sk-parallel-item::after {content: \"\";width: 100%;border-bottom: 1px solid gray;flex-grow: 1;}#sk-container-id-3 div.sk-label:hover label.sk-toggleable__label {background-color: #d4ebff;}#sk-container-id-3 div.sk-serial::before {content: \"\";position: absolute;border-left: 1px solid gray;box-sizing: border-box;top: 0;bottom: 0;left: 50%;z-index: 0;}#sk-container-id-3 div.sk-serial {display: flex;flex-direction: column;align-items: center;background-color: white;padding-right: 0.2em;padding-left: 0.2em;position: relative;}#sk-container-id-3 div.sk-item {position: relative;z-index: 1;}#sk-container-id-3 div.sk-parallel {display: flex;align-items: stretch;justify-content: center;background-color: white;position: relative;}#sk-container-id-3 div.sk-item::before, #sk-container-id-3 div.sk-parallel-item::before {content: \"\";position: absolute;border-left: 1px solid gray;box-sizing: border-box;top: 0;bottom: 0;left: 50%;z-index: -1;}#sk-container-id-3 div.sk-parallel-item {display: flex;flex-direction: column;z-index: 1;position: relative;background-color: white;}#sk-container-id-3 div.sk-parallel-item:first-child::after {align-self: flex-end;width: 50%;}#sk-container-id-3 div.sk-parallel-item:last-child::after {align-self: flex-start;width: 50%;}#sk-container-id-3 div.sk-parallel-item:only-child::after {width: 0;}#sk-container-id-3 div.sk-dashed-wrapped {border: 1px dashed gray;margin: 0 0.4em 0.5em 0.4em;box-sizing: border-box;padding-bottom: 0.4em;background-color: white;}#sk-container-id-3 div.sk-label label {font-family: monospace;font-weight: bold;display: inline-block;line-height: 1.2em;}#sk-container-id-3 div.sk-label-container {text-align: center;}#sk-container-id-3 div.sk-container {/* jupyter's `normalize.less` sets `[hidden] { display: none; }` but bootstrap.min.css set `[hidden] { display: none !important; }` so we also need the `!important` here to be able to override the default hidden behavior on the sphinx rendered scikit-learn.org. See: https://github.com/scikit-learn/scikit-learn/issues/21755 */display: inline-block !important;position: relative;}#sk-container-id-3 div.sk-text-repr-fallback {display: none;}</style><div id=\"sk-container-id-3\" class=\"sk-top-container\"><div class=\"sk-text-repr-fallback\"><pre>GridSearchCV(cv=3, estimator=DecisionTreeClassifier(),\n",
       "             param_grid={&#x27;criterion&#x27;: [&#x27;entropy&#x27;],\n",
       "                         &#x27;max_depth&#x27;: [7, 8, 9, 10, 11, 12],\n",
       "                         &#x27;max_features&#x27;: [12, 13, 14]},\n",
       "             scoring=&#x27;f1&#x27;, verbose=3)</pre><b>In a Jupyter environment, please rerun this cell to show the HTML representation or trust the notebook. <br />On GitHub, the HTML representation is unable to render, please try loading this page with nbviewer.org.</b></div><div class=\"sk-container\" hidden><div class=\"sk-item sk-dashed-wrapped\"><div class=\"sk-label-container\"><div class=\"sk-label sk-toggleable\"><input class=\"sk-toggleable__control sk-hidden--visually\" id=\"sk-estimator-id-7\" type=\"checkbox\" ><label for=\"sk-estimator-id-7\" class=\"sk-toggleable__label sk-toggleable__label-arrow\">GridSearchCV</label><div class=\"sk-toggleable__content\"><pre>GridSearchCV(cv=3, estimator=DecisionTreeClassifier(),\n",
       "             param_grid={&#x27;criterion&#x27;: [&#x27;entropy&#x27;],\n",
       "                         &#x27;max_depth&#x27;: [7, 8, 9, 10, 11, 12],\n",
       "                         &#x27;max_features&#x27;: [12, 13, 14]},\n",
       "             scoring=&#x27;f1&#x27;, verbose=3)</pre></div></div></div><div class=\"sk-parallel\"><div class=\"sk-parallel-item\"><div class=\"sk-item\"><div class=\"sk-label-container\"><div class=\"sk-label sk-toggleable\"><input class=\"sk-toggleable__control sk-hidden--visually\" id=\"sk-estimator-id-8\" type=\"checkbox\" ><label for=\"sk-estimator-id-8\" class=\"sk-toggleable__label sk-toggleable__label-arrow\">estimator: DecisionTreeClassifier</label><div class=\"sk-toggleable__content\"><pre>DecisionTreeClassifier()</pre></div></div></div><div class=\"sk-serial\"><div class=\"sk-item\"><div class=\"sk-estimator sk-toggleable\"><input class=\"sk-toggleable__control sk-hidden--visually\" id=\"sk-estimator-id-9\" type=\"checkbox\" ><label for=\"sk-estimator-id-9\" class=\"sk-toggleable__label sk-toggleable__label-arrow\">DecisionTreeClassifier</label><div class=\"sk-toggleable__content\"><pre>DecisionTreeClassifier()</pre></div></div></div></div></div></div></div></div></div></div>"
      ],
      "text/plain": [
       "GridSearchCV(cv=3, estimator=DecisionTreeClassifier(),\n",
       "             param_grid={'criterion': ['entropy'],\n",
       "                         'max_depth': [7, 8, 9, 10, 11, 12],\n",
       "                         'max_features': [12, 13, 14]},\n",
       "             scoring='f1', verbose=3)"
      ]
     },
     "execution_count": 50,
     "metadata": {},
     "output_type": "execute_result"
    }
   ],
   "source": [
    "from sklearn.model_selection import GridSearchCV\n",
    "param={'max_depth':[7,8,9,10,11,12],'max_features':[12,13,14],'criterion':['entropy']}\n",
    "gscv=GridSearchCV(estimator=DecisionTreeClassifier(),param_grid=param,scoring='f1',cv=3,verbose=3)\n",
    "gscv.fit(x_train_os,y_train_os)"
   ]
  },
  {
   "cell_type": "code",
   "execution_count": 51,
   "id": "fb955531",
   "metadata": {},
   "outputs": [
    {
     "data": {
      "text/plain": [
       "{'criterion': 'entropy', 'max_depth': 12, 'max_features': 13}"
      ]
     },
     "execution_count": 51,
     "metadata": {},
     "output_type": "execute_result"
    }
   ],
   "source": [
    "gscv.best_params_"
   ]
  },
  {
   "cell_type": "code",
   "execution_count": 52,
   "id": "3ac3700c",
   "metadata": {},
   "outputs": [
    {
     "name": "stdout",
     "output_type": "stream",
     "text": [
      "confusion_matrix \n",
      " [[862 110]\n",
      " [ 33  17]]\n",
      "cohen_kappa_score  0.13108672128613397\n",
      "accuracy_score  0.860078277886497\n",
      "recall_score  0.34\n",
      "classification_report \n",
      "               precision    recall  f1-score   support\n",
      "\n",
      "           0       0.96      0.89      0.92       972\n",
      "           1       0.13      0.34      0.19        50\n",
      "\n",
      "    accuracy                           0.86      1022\n",
      "   macro avg       0.55      0.61      0.56      1022\n",
      "weighted avg       0.92      0.86      0.89      1022\n",
      "\n",
      "None\n"
     ]
    }
   ],
   "source": [
    "from sklearn.tree import DecisionTreeClassifier\n",
    "dt=DecisionTreeClassifier(**gscv.best_params_)\n",
    "dt.fit(x_train_os,y_train_os)\n",
    "y_pred_dt=dt.predict(x_test)\n",
    "print(score(y_test,y_pred_dt))"
   ]
  },
  {
   "cell_type": "markdown",
   "id": "3e78f1f7",
   "metadata": {},
   "source": [
    "### 5) random forest"
   ]
  },
  {
   "cell_type": "code",
   "execution_count": 54,
   "id": "c4347d50",
   "metadata": {},
   "outputs": [
    {
     "name": "stdout",
     "output_type": "stream",
     "text": [
      "confusion_matrix \n",
      " [[924  48]\n",
      " [ 46   4]]\n",
      "cohen_kappa_score  0.030047251726505464\n",
      "accuracy_score  0.9080234833659491\n",
      "recall_score  0.08\n",
      "classification_report \n",
      "               precision    recall  f1-score   support\n",
      "\n",
      "           0       0.95      0.95      0.95       972\n",
      "           1       0.08      0.08      0.08        50\n",
      "\n",
      "    accuracy                           0.91      1022\n",
      "   macro avg       0.51      0.52      0.52      1022\n",
      "weighted avg       0.91      0.91      0.91      1022\n",
      "\n",
      "None\n"
     ]
    }
   ],
   "source": [
    "from sklearn.ensemble import RandomForestClassifier\n",
    "rf=RandomForestClassifier(n_estimators=300)\n",
    "rf.fit(x_train_os,y_train_os)\n",
    "y_pred_rf=rf.predict(x_test)\n",
    "print(score(y_test,y_pred_rf))"
   ]
  },
  {
   "cell_type": "code",
   "execution_count": 55,
   "id": "abf49a96",
   "metadata": {},
   "outputs": [
    {
     "name": "stdout",
     "output_type": "stream",
     "text": [
      "Fitting 3 folds for each of 25 candidates, totalling 75 fits\n",
      "[CV 1/3] END criterion=entropy, max_depth=4, n_estimators=400;, score=0.825 total time=   1.2s\n",
      "[CV 2/3] END criterion=entropy, max_depth=4, n_estimators=400;, score=0.849 total time=   1.0s\n",
      "[CV 3/3] END criterion=entropy, max_depth=4, n_estimators=400;, score=0.837 total time=   1.0s\n",
      "[CV 1/3] END criterion=entropy, max_depth=4, n_estimators=600;, score=0.824 total time=   1.6s\n",
      "[CV 2/3] END criterion=entropy, max_depth=4, n_estimators=600;, score=0.847 total time=   1.6s\n",
      "[CV 3/3] END criterion=entropy, max_depth=4, n_estimators=600;, score=0.840 total time=   2.8s\n",
      "[CV 1/3] END criterion=entropy, max_depth=4, n_estimators=700;, score=0.823 total time=   1.9s\n",
      "[CV 2/3] END criterion=entropy, max_depth=4, n_estimators=700;, score=0.850 total time=   1.9s\n",
      "[CV 3/3] END criterion=entropy, max_depth=4, n_estimators=700;, score=0.839 total time=   1.8s\n",
      "[CV 1/3] END criterion=entropy, max_depth=4, n_estimators=1000;, score=0.824 total time=   2.7s\n",
      "[CV 2/3] END criterion=entropy, max_depth=4, n_estimators=1000;, score=0.844 total time=   2.9s\n",
      "[CV 3/3] END criterion=entropy, max_depth=4, n_estimators=1000;, score=0.841 total time=   2.7s\n",
      "[CV 1/3] END criterion=entropy, max_depth=4, n_estimators=1200;, score=0.825 total time=   3.3s\n",
      "[CV 2/3] END criterion=entropy, max_depth=4, n_estimators=1200;, score=0.846 total time=   3.3s\n",
      "[CV 3/3] END criterion=entropy, max_depth=4, n_estimators=1200;, score=0.842 total time=   3.2s\n",
      "[CV 1/3] END criterion=entropy, max_depth=5, n_estimators=400;, score=0.839 total time=   1.1s\n",
      "[CV 2/3] END criterion=entropy, max_depth=5, n_estimators=400;, score=0.865 total time=   1.2s\n",
      "[CV 3/3] END criterion=entropy, max_depth=5, n_estimators=400;, score=0.855 total time=   1.1s\n",
      "[CV 1/3] END criterion=entropy, max_depth=5, n_estimators=600;, score=0.838 total time=   1.8s\n",
      "[CV 2/3] END criterion=entropy, max_depth=5, n_estimators=600;, score=0.862 total time=   1.8s\n",
      "[CV 3/3] END criterion=entropy, max_depth=5, n_estimators=600;, score=0.857 total time=   1.8s\n",
      "[CV 1/3] END criterion=entropy, max_depth=5, n_estimators=700;, score=0.836 total time=   2.3s\n",
      "[CV 2/3] END criterion=entropy, max_depth=5, n_estimators=700;, score=0.864 total time=   2.1s\n",
      "[CV 3/3] END criterion=entropy, max_depth=5, n_estimators=700;, score=0.856 total time=   2.1s\n",
      "[CV 1/3] END criterion=entropy, max_depth=5, n_estimators=1000;, score=0.840 total time=   3.0s\n",
      "[CV 2/3] END criterion=entropy, max_depth=5, n_estimators=1000;, score=0.865 total time=   3.0s\n",
      "[CV 3/3] END criterion=entropy, max_depth=5, n_estimators=1000;, score=0.857 total time=   4.8s\n",
      "[CV 1/3] END criterion=entropy, max_depth=5, n_estimators=1200;, score=0.842 total time=   6.5s\n",
      "[CV 2/3] END criterion=entropy, max_depth=5, n_estimators=1200;, score=0.871 total time=   3.7s\n",
      "[CV 3/3] END criterion=entropy, max_depth=5, n_estimators=1200;, score=0.858 total time=   4.2s\n",
      "[CV 1/3] END criterion=entropy, max_depth=6, n_estimators=400;, score=0.851 total time=   2.0s\n",
      "[CV 2/3] END criterion=entropy, max_depth=6, n_estimators=400;, score=0.889 total time=   1.7s\n",
      "[CV 3/3] END criterion=entropy, max_depth=6, n_estimators=400;, score=0.881 total time=   1.4s\n",
      "[CV 1/3] END criterion=entropy, max_depth=6, n_estimators=600;, score=0.855 total time=   2.8s\n",
      "[CV 2/3] END criterion=entropy, max_depth=6, n_estimators=600;, score=0.888 total time=   2.4s\n",
      "[CV 3/3] END criterion=entropy, max_depth=6, n_estimators=600;, score=0.881 total time=   2.3s\n",
      "[CV 1/3] END criterion=entropy, max_depth=6, n_estimators=700;, score=0.851 total time=   3.1s\n",
      "[CV 2/3] END criterion=entropy, max_depth=6, n_estimators=700;, score=0.884 total time=   2.5s\n",
      "[CV 3/3] END criterion=entropy, max_depth=6, n_estimators=700;, score=0.883 total time=   2.6s\n",
      "[CV 1/3] END criterion=entropy, max_depth=6, n_estimators=1000;, score=0.854 total time=   4.0s\n",
      "[CV 2/3] END criterion=entropy, max_depth=6, n_estimators=1000;, score=0.887 total time=   4.9s\n",
      "[CV 3/3] END criterion=entropy, max_depth=6, n_estimators=1000;, score=0.883 total time=   4.6s\n",
      "[CV 1/3] END criterion=entropy, max_depth=6, n_estimators=1200;, score=0.852 total time=   5.1s\n",
      "[CV 2/3] END criterion=entropy, max_depth=6, n_estimators=1200;, score=0.887 total time=   5.8s\n",
      "[CV 3/3] END criterion=entropy, max_depth=6, n_estimators=1200;, score=0.882 total time=   4.9s\n",
      "[CV 1/3] END criterion=entropy, max_depth=7, n_estimators=400;, score=0.864 total time=   1.8s\n",
      "[CV 2/3] END criterion=entropy, max_depth=7, n_estimators=400;, score=0.905 total time=   1.9s\n",
      "[CV 3/3] END criterion=entropy, max_depth=7, n_estimators=400;, score=0.900 total time=   1.8s\n",
      "[CV 1/3] END criterion=entropy, max_depth=7, n_estimators=600;, score=0.862 total time=   2.2s\n",
      "[CV 2/3] END criterion=entropy, max_depth=7, n_estimators=600;, score=0.906 total time=   3.0s\n",
      "[CV 3/3] END criterion=entropy, max_depth=7, n_estimators=600;, score=0.898 total time=   3.1s\n",
      "[CV 1/3] END criterion=entropy, max_depth=7, n_estimators=700;, score=0.861 total time=   2.7s\n",
      "[CV 2/3] END criterion=entropy, max_depth=7, n_estimators=700;, score=0.907 total time=   2.5s\n",
      "[CV 3/3] END criterion=entropy, max_depth=7, n_estimators=700;, score=0.897 total time=   2.6s\n",
      "[CV 1/3] END criterion=entropy, max_depth=7, n_estimators=1000;, score=0.864 total time=   3.6s\n",
      "[CV 2/3] END criterion=entropy, max_depth=7, n_estimators=1000;, score=0.906 total time=   3.6s\n",
      "[CV 3/3] END criterion=entropy, max_depth=7, n_estimators=1000;, score=0.899 total time=   3.7s\n",
      "[CV 1/3] END criterion=entropy, max_depth=7, n_estimators=1200;, score=0.863 total time=   4.6s\n",
      "[CV 2/3] END criterion=entropy, max_depth=7, n_estimators=1200;, score=0.907 total time=   4.5s\n",
      "[CV 3/3] END criterion=entropy, max_depth=7, n_estimators=1200;, score=0.898 total time=   4.4s\n",
      "[CV 1/3] END criterion=entropy, max_depth=8, n_estimators=400;, score=0.873 total time=   1.7s\n",
      "[CV 2/3] END criterion=entropy, max_depth=8, n_estimators=400;, score=0.919 total time=   1.6s\n",
      "[CV 3/3] END criterion=entropy, max_depth=8, n_estimators=400;, score=0.913 total time=   1.5s\n",
      "[CV 1/3] END criterion=entropy, max_depth=8, n_estimators=600;, score=0.871 total time=   2.3s\n",
      "[CV 2/3] END criterion=entropy, max_depth=8, n_estimators=600;, score=0.920 total time=   2.3s\n",
      "[CV 3/3] END criterion=entropy, max_depth=8, n_estimators=600;, score=0.914 total time=   2.3s\n",
      "[CV 1/3] END criterion=entropy, max_depth=8, n_estimators=700;, score=0.870 total time=   2.7s\n",
      "[CV 2/3] END criterion=entropy, max_depth=8, n_estimators=700;, score=0.919 total time=   2.8s\n",
      "[CV 3/3] END criterion=entropy, max_depth=8, n_estimators=700;, score=0.914 total time=   2.7s\n",
      "[CV 1/3] END criterion=entropy, max_depth=8, n_estimators=1000;, score=0.874 total time=   3.9s\n",
      "[CV 2/3] END criterion=entropy, max_depth=8, n_estimators=1000;, score=0.918 total time=   4.0s\n",
      "[CV 3/3] END criterion=entropy, max_depth=8, n_estimators=1000;, score=0.913 total time=   3.9s\n",
      "[CV 1/3] END criterion=entropy, max_depth=8, n_estimators=1200;, score=0.872 total time=   4.6s\n",
      "[CV 2/3] END criterion=entropy, max_depth=8, n_estimators=1200;, score=0.919 total time=   4.6s\n",
      "[CV 3/3] END criterion=entropy, max_depth=8, n_estimators=1200;, score=0.914 total time=   4.7s\n"
     ]
    },
    {
     "data": {
      "text/html": [
       "<style>#sk-container-id-4 {color: black;background-color: white;}#sk-container-id-4 pre{padding: 0;}#sk-container-id-4 div.sk-toggleable {background-color: white;}#sk-container-id-4 label.sk-toggleable__label {cursor: pointer;display: block;width: 100%;margin-bottom: 0;padding: 0.3em;box-sizing: border-box;text-align: center;}#sk-container-id-4 label.sk-toggleable__label-arrow:before {content: \"▸\";float: left;margin-right: 0.25em;color: #696969;}#sk-container-id-4 label.sk-toggleable__label-arrow:hover:before {color: black;}#sk-container-id-4 div.sk-estimator:hover label.sk-toggleable__label-arrow:before {color: black;}#sk-container-id-4 div.sk-toggleable__content {max-height: 0;max-width: 0;overflow: hidden;text-align: left;background-color: #f0f8ff;}#sk-container-id-4 div.sk-toggleable__content pre {margin: 0.2em;color: black;border-radius: 0.25em;background-color: #f0f8ff;}#sk-container-id-4 input.sk-toggleable__control:checked~div.sk-toggleable__content {max-height: 200px;max-width: 100%;overflow: auto;}#sk-container-id-4 input.sk-toggleable__control:checked~label.sk-toggleable__label-arrow:before {content: \"▾\";}#sk-container-id-4 div.sk-estimator input.sk-toggleable__control:checked~label.sk-toggleable__label {background-color: #d4ebff;}#sk-container-id-4 div.sk-label input.sk-toggleable__control:checked~label.sk-toggleable__label {background-color: #d4ebff;}#sk-container-id-4 input.sk-hidden--visually {border: 0;clip: rect(1px 1px 1px 1px);clip: rect(1px, 1px, 1px, 1px);height: 1px;margin: -1px;overflow: hidden;padding: 0;position: absolute;width: 1px;}#sk-container-id-4 div.sk-estimator {font-family: monospace;background-color: #f0f8ff;border: 1px dotted black;border-radius: 0.25em;box-sizing: border-box;margin-bottom: 0.5em;}#sk-container-id-4 div.sk-estimator:hover {background-color: #d4ebff;}#sk-container-id-4 div.sk-parallel-item::after {content: \"\";width: 100%;border-bottom: 1px solid gray;flex-grow: 1;}#sk-container-id-4 div.sk-label:hover label.sk-toggleable__label {background-color: #d4ebff;}#sk-container-id-4 div.sk-serial::before {content: \"\";position: absolute;border-left: 1px solid gray;box-sizing: border-box;top: 0;bottom: 0;left: 50%;z-index: 0;}#sk-container-id-4 div.sk-serial {display: flex;flex-direction: column;align-items: center;background-color: white;padding-right: 0.2em;padding-left: 0.2em;position: relative;}#sk-container-id-4 div.sk-item {position: relative;z-index: 1;}#sk-container-id-4 div.sk-parallel {display: flex;align-items: stretch;justify-content: center;background-color: white;position: relative;}#sk-container-id-4 div.sk-item::before, #sk-container-id-4 div.sk-parallel-item::before {content: \"\";position: absolute;border-left: 1px solid gray;box-sizing: border-box;top: 0;bottom: 0;left: 50%;z-index: -1;}#sk-container-id-4 div.sk-parallel-item {display: flex;flex-direction: column;z-index: 1;position: relative;background-color: white;}#sk-container-id-4 div.sk-parallel-item:first-child::after {align-self: flex-end;width: 50%;}#sk-container-id-4 div.sk-parallel-item:last-child::after {align-self: flex-start;width: 50%;}#sk-container-id-4 div.sk-parallel-item:only-child::after {width: 0;}#sk-container-id-4 div.sk-dashed-wrapped {border: 1px dashed gray;margin: 0 0.4em 0.5em 0.4em;box-sizing: border-box;padding-bottom: 0.4em;background-color: white;}#sk-container-id-4 div.sk-label label {font-family: monospace;font-weight: bold;display: inline-block;line-height: 1.2em;}#sk-container-id-4 div.sk-label-container {text-align: center;}#sk-container-id-4 div.sk-container {/* jupyter's `normalize.less` sets `[hidden] { display: none; }` but bootstrap.min.css set `[hidden] { display: none !important; }` so we also need the `!important` here to be able to override the default hidden behavior on the sphinx rendered scikit-learn.org. See: https://github.com/scikit-learn/scikit-learn/issues/21755 */display: inline-block !important;position: relative;}#sk-container-id-4 div.sk-text-repr-fallback {display: none;}</style><div id=\"sk-container-id-4\" class=\"sk-top-container\"><div class=\"sk-text-repr-fallback\"><pre>GridSearchCV(cv=3, estimator=RandomForestClassifier(),\n",
       "             param_grid={&#x27;criterion&#x27;: [&#x27;entropy&#x27;], &#x27;max_depth&#x27;: [4, 5, 6, 7, 8],\n",
       "                         &#x27;n_estimators&#x27;: [400, 600, 700, 1000, 1200]},\n",
       "             scoring=&#x27;f1&#x27;, verbose=3)</pre><b>In a Jupyter environment, please rerun this cell to show the HTML representation or trust the notebook. <br />On GitHub, the HTML representation is unable to render, please try loading this page with nbviewer.org.</b></div><div class=\"sk-container\" hidden><div class=\"sk-item sk-dashed-wrapped\"><div class=\"sk-label-container\"><div class=\"sk-label sk-toggleable\"><input class=\"sk-toggleable__control sk-hidden--visually\" id=\"sk-estimator-id-10\" type=\"checkbox\" ><label for=\"sk-estimator-id-10\" class=\"sk-toggleable__label sk-toggleable__label-arrow\">GridSearchCV</label><div class=\"sk-toggleable__content\"><pre>GridSearchCV(cv=3, estimator=RandomForestClassifier(),\n",
       "             param_grid={&#x27;criterion&#x27;: [&#x27;entropy&#x27;], &#x27;max_depth&#x27;: [4, 5, 6, 7, 8],\n",
       "                         &#x27;n_estimators&#x27;: [400, 600, 700, 1000, 1200]},\n",
       "             scoring=&#x27;f1&#x27;, verbose=3)</pre></div></div></div><div class=\"sk-parallel\"><div class=\"sk-parallel-item\"><div class=\"sk-item\"><div class=\"sk-label-container\"><div class=\"sk-label sk-toggleable\"><input class=\"sk-toggleable__control sk-hidden--visually\" id=\"sk-estimator-id-11\" type=\"checkbox\" ><label for=\"sk-estimator-id-11\" class=\"sk-toggleable__label sk-toggleable__label-arrow\">estimator: RandomForestClassifier</label><div class=\"sk-toggleable__content\"><pre>RandomForestClassifier()</pre></div></div></div><div class=\"sk-serial\"><div class=\"sk-item\"><div class=\"sk-estimator sk-toggleable\"><input class=\"sk-toggleable__control sk-hidden--visually\" id=\"sk-estimator-id-12\" type=\"checkbox\" ><label for=\"sk-estimator-id-12\" class=\"sk-toggleable__label sk-toggleable__label-arrow\">RandomForestClassifier</label><div class=\"sk-toggleable__content\"><pre>RandomForestClassifier()</pre></div></div></div></div></div></div></div></div></div></div>"
      ],
      "text/plain": [
       "GridSearchCV(cv=3, estimator=RandomForestClassifier(),\n",
       "             param_grid={'criterion': ['entropy'], 'max_depth': [4, 5, 6, 7, 8],\n",
       "                         'n_estimators': [400, 600, 700, 1000, 1200]},\n",
       "             scoring='f1', verbose=3)"
      ]
     },
     "execution_count": 55,
     "metadata": {},
     "output_type": "execute_result"
    }
   ],
   "source": [
    "from sklearn.model_selection import GridSearchCV\n",
    "param={'n_estimators':[400,600,700,1000,1200],'max_depth':[4,5,6,7,8],'criterion':['entropy']}\n",
    "gscv=GridSearchCV(estimator=RandomForestClassifier(),param_grid=param,scoring='f1',cv=3,verbose=3)\n",
    "gscv.fit(x_train_os,y_train_os)"
   ]
  },
  {
   "cell_type": "code",
   "execution_count": 57,
   "id": "1186fa20",
   "metadata": {},
   "outputs": [
    {
     "name": "stdout",
     "output_type": "stream",
     "text": [
      "confusion_matrix \n",
      " [[871 101]\n",
      " [ 28  22]]\n",
      "cohen_kappa_score  0.1985824225256222\n",
      "accuracy_score  0.8737769080234834\n",
      "recall_score  0.44\n",
      "classification_report \n",
      "               precision    recall  f1-score   support\n",
      "\n",
      "           0       0.97      0.90      0.93       972\n",
      "           1       0.18      0.44      0.25        50\n",
      "\n",
      "    accuracy                           0.87      1022\n",
      "   macro avg       0.57      0.67      0.59      1022\n",
      "weighted avg       0.93      0.87      0.90      1022\n",
      "\n",
      "None\n"
     ]
    }
   ],
   "source": [
    "from sklearn.ensemble import RandomForestClassifier\n",
    "rf=RandomForestClassifier(**gscv.best_params_)\n",
    "rf.fit(x_train_os,y_train_os)\n",
    "y_pred_rf=rf.predict(x_test)\n",
    "print(score(y_test,y_pred_rf))"
   ]
  },
  {
   "cell_type": "code",
   "execution_count": 58,
   "id": "6365b7de",
   "metadata": {},
   "outputs": [
    {
     "data": {
      "text/plain": [
       "0    972\n",
       "1     50\n",
       "Name: stroke, dtype: int64"
      ]
     },
     "execution_count": 58,
     "metadata": {},
     "output_type": "execute_result"
    }
   ],
   "source": [
    "y_test.value_counts()"
   ]
  },
  {
   "cell_type": "markdown",
   "id": "16025528",
   "metadata": {},
   "source": [
    "### 6) XGboost"
   ]
  },
  {
   "cell_type": "code",
   "execution_count": 61,
   "id": "81e162db",
   "metadata": {},
   "outputs": [
    {
     "name": "stdout",
     "output_type": "stream",
     "text": [
      "confusion_matrix \n",
      " [[930  42]\n",
      " [ 41   9]]\n",
      "cohen_kappa_score  0.13550477976396735\n",
      "accuracy_score  0.9187866927592955\n",
      "recall_score  0.18\n",
      "classification_report \n",
      "               precision    recall  f1-score   support\n",
      "\n",
      "           0       0.96      0.96      0.96       972\n",
      "           1       0.18      0.18      0.18        50\n",
      "\n",
      "    accuracy                           0.92      1022\n",
      "   macro avg       0.57      0.57      0.57      1022\n",
      "weighted avg       0.92      0.92      0.92      1022\n",
      "\n",
      "None\n"
     ]
    }
   ],
   "source": [
    "from xgboost import XGBClassifier\n",
    "xgb=XGBClassifier(n_estimators=200,max_depth=5)\n",
    "xgb.fit(x_train_os,y_train_os)\n",
    "y_pred_xgb=xgb.predict(x_test)\n",
    "print(score(y_test,y_pred_xgb))"
   ]
  },
  {
   "cell_type": "code",
   "execution_count": null,
   "id": "b0a307de",
   "metadata": {},
   "outputs": [],
   "source": []
  }
 ],
 "metadata": {
  "kernelspec": {
   "display_name": "Python 3 (ipykernel)",
   "language": "python",
   "name": "python3"
  },
  "language_info": {
   "codemirror_mode": {
    "name": "ipython",
    "version": 3
   },
   "file_extension": ".py",
   "mimetype": "text/x-python",
   "name": "python",
   "nbconvert_exporter": "python",
   "pygments_lexer": "ipython3",
   "version": "3.9.12"
  }
 },
 "nbformat": 4,
 "nbformat_minor": 5
}
